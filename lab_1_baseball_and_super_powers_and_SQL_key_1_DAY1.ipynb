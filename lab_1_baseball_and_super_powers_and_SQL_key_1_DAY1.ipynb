{
 "cells": [
  {
   "cell_type": "markdown",
   "metadata": {},
   "source": [
    "# Lab 1 - Creating the SQL Tables\n",
    "\n",
    "In this lab, use `sqlalchemy` to create, populate, and query a table from the baseball database, as well as for the `super_hero_powers.csv` table.  "
   ]
  },
  {
   "cell_type": "code",
   "execution_count": 1,
   "metadata": {},
   "outputs": [
    {
     "data": {
      "text/plain": [
       "'1.2.7'"
      ]
     },
     "execution_count": 1,
     "metadata": {},
     "output_type": "execute_result"
    }
   ],
   "source": [
    "import pandas as pd\n",
    "artwork = pd.read_csv(\"./data/Artworks.csv\")\n",
    "import sqlalchemy\n",
    "sqlalchemy.__version__"
   ]
  },
  {
   "cell_type": "code",
   "execution_count": 2,
   "metadata": {},
   "outputs": [
    {
     "data": {
      "text/plain": [
       "'0.24.0'"
      ]
     },
     "execution_count": 2,
     "metadata": {},
     "output_type": "execute_result"
    }
   ],
   "source": [
    "pd.__version__"
   ]
  },
  {
   "cell_type": "markdown",
   "metadata": {},
   "source": [
    "## Part 1 - Baseball Managers\n",
    "\n",
    "In this part of the lab, you will walk through the process of creating a manager table from [Lahman’s Baseball Database](http://www.seanlahman.com/baseball-archive/statistics/)"
   ]
  },
  {
   "cell_type": "markdown",
   "metadata": {},
   "source": [
    "## Task 1 - Download, unzip, rename \n",
    "\n",
    "1. Download the baseball database linked above (save to desktop)\n",
    "2. Unzip the file and rename to `baseball`\n",
    "3. Load the `core/Managers.csv` file into a pandas `DataFrame` using `read_csv`\n",
    "4. Inspect the `column` names and `dtypes`"
   ]
  },
  {
   "cell_type": "code",
   "execution_count": 3,
   "metadata": {},
   "outputs": [
    {
     "data": {
      "text/html": [
       "<div>\n",
       "<style scoped>\n",
       "    .dataframe tbody tr th:only-of-type {\n",
       "        vertical-align: middle;\n",
       "    }\n",
       "\n",
       "    .dataframe tbody tr th {\n",
       "        vertical-align: top;\n",
       "    }\n",
       "\n",
       "    .dataframe thead th {\n",
       "        text-align: right;\n",
       "    }\n",
       "</style>\n",
       "<table border=\"1\" class=\"dataframe\">\n",
       "  <thead>\n",
       "    <tr style=\"text-align: right;\">\n",
       "      <th></th>\n",
       "      <th>playerID</th>\n",
       "      <th>yearID</th>\n",
       "      <th>teamID</th>\n",
       "      <th>lgID</th>\n",
       "      <th>inseason</th>\n",
       "      <th>G</th>\n",
       "      <th>W</th>\n",
       "      <th>L</th>\n",
       "      <th>rank</th>\n",
       "      <th>plyrMgr</th>\n",
       "    </tr>\n",
       "  </thead>\n",
       "  <tbody>\n",
       "    <tr>\n",
       "      <th>0</th>\n",
       "      <td>wrighha01</td>\n",
       "      <td>1871</td>\n",
       "      <td>BS1</td>\n",
       "      <td>NaN</td>\n",
       "      <td>1</td>\n",
       "      <td>31</td>\n",
       "      <td>20</td>\n",
       "      <td>10</td>\n",
       "      <td>3.0</td>\n",
       "      <td>Y</td>\n",
       "    </tr>\n",
       "    <tr>\n",
       "      <th>1</th>\n",
       "      <td>woodji01</td>\n",
       "      <td>1871</td>\n",
       "      <td>CH1</td>\n",
       "      <td>NaN</td>\n",
       "      <td>1</td>\n",
       "      <td>28</td>\n",
       "      <td>19</td>\n",
       "      <td>9</td>\n",
       "      <td>2.0</td>\n",
       "      <td>Y</td>\n",
       "    </tr>\n",
       "    <tr>\n",
       "      <th>2</th>\n",
       "      <td>paborch01</td>\n",
       "      <td>1871</td>\n",
       "      <td>CL1</td>\n",
       "      <td>NaN</td>\n",
       "      <td>1</td>\n",
       "      <td>29</td>\n",
       "      <td>10</td>\n",
       "      <td>19</td>\n",
       "      <td>8.0</td>\n",
       "      <td>Y</td>\n",
       "    </tr>\n",
       "    <tr>\n",
       "      <th>3</th>\n",
       "      <td>lennobi01</td>\n",
       "      <td>1871</td>\n",
       "      <td>FW1</td>\n",
       "      <td>NaN</td>\n",
       "      <td>1</td>\n",
       "      <td>14</td>\n",
       "      <td>5</td>\n",
       "      <td>9</td>\n",
       "      <td>8.0</td>\n",
       "      <td>Y</td>\n",
       "    </tr>\n",
       "    <tr>\n",
       "      <th>4</th>\n",
       "      <td>deaneha01</td>\n",
       "      <td>1871</td>\n",
       "      <td>FW1</td>\n",
       "      <td>NaN</td>\n",
       "      <td>2</td>\n",
       "      <td>5</td>\n",
       "      <td>2</td>\n",
       "      <td>3</td>\n",
       "      <td>8.0</td>\n",
       "      <td>Y</td>\n",
       "    </tr>\n",
       "  </tbody>\n",
       "</table>\n",
       "</div>"
      ],
      "text/plain": [
       "    playerID  yearID teamID lgID  inseason   G   W   L  rank plyrMgr\n",
       "0  wrighha01    1871    BS1  NaN         1  31  20  10   3.0       Y\n",
       "1   woodji01    1871    CH1  NaN         1  28  19   9   2.0       Y\n",
       "2  paborch01    1871    CL1  NaN         1  29  10  19   8.0       Y\n",
       "3  lennobi01    1871    FW1  NaN         1  14   5   9   8.0       Y\n",
       "4  deaneha01    1871    FW1  NaN         2   5   2   3   8.0       Y"
      ]
     },
     "execution_count": 3,
     "metadata": {},
     "output_type": "execute_result"
    }
   ],
   "source": [
    "import pandas as pd\n",
    "managers = pd.read_csv('~/Desktop/baseball/core/Managers.csv')\n",
    "managers.head()"
   ]
  },
  {
   "cell_type": "code",
   "execution_count": 4,
   "metadata": {},
   "outputs": [
    {
     "data": {
      "text/plain": [
       "Index(['playerID', 'yearID', 'teamID', 'lgID', 'inseason', 'G', 'W', 'L',\n",
       "       'rank', 'plyrMgr'],\n",
       "      dtype='object')"
      ]
     },
     "execution_count": 4,
     "metadata": {},
     "output_type": "execute_result"
    }
   ],
   "source": [
    "managers.columns"
   ]
  },
  {
   "cell_type": "markdown",
   "metadata": {},
   "source": [
    "**Question:** Is there a candidate for a primary key?"
   ]
  },
  {
   "cell_type": "code",
   "execution_count": 5,
   "metadata": {},
   "outputs": [
    {
     "data": {
      "text/plain": [
       "[('playerID', False),\n",
       " ('yearID', False),\n",
       " ('teamID', False),\n",
       " ('lgID', False),\n",
       " ('inseason', False),\n",
       " ('G', False),\n",
       " ('W', False),\n",
       " ('L', False),\n",
       " ('rank', False),\n",
       " ('plyrMgr', False)]"
      ]
     },
     "execution_count": 5,
     "metadata": {},
     "output_type": "execute_result"
    }
   ],
   "source": [
    "[(col, managers[col].is_unique) for col in managers]"
   ]
  },
  {
   "cell_type": "markdown",
   "metadata": {},
   "source": [
    "**Solution:** Add the `index` as an actual column"
   ]
  },
  {
   "cell_type": "code",
   "execution_count": 6,
   "metadata": {},
   "outputs": [],
   "source": [
    "from dfply import mutate\n",
    "managers = (managers >>\n",
    "            mutate(id = managers.index))"
   ]
  },
  {
   "cell_type": "code",
   "execution_count": 7,
   "metadata": {},
   "outputs": [
    {
     "data": {
      "text/plain": [
       "True"
      ]
     },
     "execution_count": 7,
     "metadata": {},
     "output_type": "execute_result"
    }
   ],
   "source": [
    "managers.id.is_unique"
   ]
  },
  {
   "cell_type": "code",
   "execution_count": 8,
   "metadata": {},
   "outputs": [
    {
     "data": {
      "text/plain": [
       "Index(['playerID', 'yearID', 'teamID', 'lgID', 'inseason', 'G', 'W', 'L',\n",
       "       'rank', 'plyrMgr', 'id'],\n",
       "      dtype='object')"
      ]
     },
     "execution_count": 8,
     "metadata": {},
     "output_type": "execute_result"
    }
   ],
   "source": [
    "managers.columns"
   ]
  },
  {
   "cell_type": "code",
   "execution_count": 9,
   "metadata": {
    "scrolled": true
   },
   "outputs": [
    {
     "data": {
      "text/plain": [
       "playerID     object\n",
       "yearID        int64\n",
       "teamID       object\n",
       "lgID         object\n",
       "inseason      int64\n",
       "G             int64\n",
       "W             int64\n",
       "L             int64\n",
       "rank        float64\n",
       "plyrMgr      object\n",
       "id            int64\n",
       "dtype: object"
      ]
     },
     "execution_count": 9,
     "metadata": {},
     "output_type": "execute_result"
    }
   ],
   "source": [
    "managers.dtypes"
   ]
  },
  {
   "cell_type": "code",
   "execution_count": 10,
   "metadata": {},
   "outputs": [
    {
     "data": {
      "text/plain": [
       "(3469, 11)"
      ]
     },
     "execution_count": 10,
     "metadata": {},
     "output_type": "execute_result"
    }
   ],
   "source": [
    "managers.shape"
   ]
  },
  {
   "cell_type": "code",
   "execution_count": 11,
   "metadata": {},
   "outputs": [
    {
     "data": {
      "text/html": [
       "<div>\n",
       "<style scoped>\n",
       "    .dataframe tbody tr th:only-of-type {\n",
       "        vertical-align: middle;\n",
       "    }\n",
       "\n",
       "    .dataframe tbody tr th {\n",
       "        vertical-align: top;\n",
       "    }\n",
       "\n",
       "    .dataframe thead th {\n",
       "        text-align: right;\n",
       "    }\n",
       "</style>\n",
       "<table border=\"1\" class=\"dataframe\">\n",
       "  <thead>\n",
       "    <tr style=\"text-align: right;\">\n",
       "      <th></th>\n",
       "      <th>playerID</th>\n",
       "      <th>yearID</th>\n",
       "      <th>teamID</th>\n",
       "      <th>lgID</th>\n",
       "      <th>inseason</th>\n",
       "      <th>G</th>\n",
       "      <th>W</th>\n",
       "      <th>L</th>\n",
       "      <th>rank</th>\n",
       "      <th>plyrMgr</th>\n",
       "      <th>id</th>\n",
       "    </tr>\n",
       "  </thead>\n",
       "  <tbody>\n",
       "    <tr>\n",
       "      <th>0</th>\n",
       "      <td>wrighha01</td>\n",
       "      <td>1871</td>\n",
       "      <td>BS1</td>\n",
       "      <td>NaN</td>\n",
       "      <td>1</td>\n",
       "      <td>31</td>\n",
       "      <td>20</td>\n",
       "      <td>10</td>\n",
       "      <td>3.0</td>\n",
       "      <td>Y</td>\n",
       "      <td>0</td>\n",
       "    </tr>\n",
       "    <tr>\n",
       "      <th>1</th>\n",
       "      <td>woodji01</td>\n",
       "      <td>1871</td>\n",
       "      <td>CH1</td>\n",
       "      <td>NaN</td>\n",
       "      <td>1</td>\n",
       "      <td>28</td>\n",
       "      <td>19</td>\n",
       "      <td>9</td>\n",
       "      <td>2.0</td>\n",
       "      <td>Y</td>\n",
       "      <td>1</td>\n",
       "    </tr>\n",
       "    <tr>\n",
       "      <th>2</th>\n",
       "      <td>paborch01</td>\n",
       "      <td>1871</td>\n",
       "      <td>CL1</td>\n",
       "      <td>NaN</td>\n",
       "      <td>1</td>\n",
       "      <td>29</td>\n",
       "      <td>10</td>\n",
       "      <td>19</td>\n",
       "      <td>8.0</td>\n",
       "      <td>Y</td>\n",
       "      <td>2</td>\n",
       "    </tr>\n",
       "    <tr>\n",
       "      <th>3</th>\n",
       "      <td>lennobi01</td>\n",
       "      <td>1871</td>\n",
       "      <td>FW1</td>\n",
       "      <td>NaN</td>\n",
       "      <td>1</td>\n",
       "      <td>14</td>\n",
       "      <td>5</td>\n",
       "      <td>9</td>\n",
       "      <td>8.0</td>\n",
       "      <td>Y</td>\n",
       "      <td>3</td>\n",
       "    </tr>\n",
       "    <tr>\n",
       "      <th>4</th>\n",
       "      <td>deaneha01</td>\n",
       "      <td>1871</td>\n",
       "      <td>FW1</td>\n",
       "      <td>NaN</td>\n",
       "      <td>2</td>\n",
       "      <td>5</td>\n",
       "      <td>2</td>\n",
       "      <td>3</td>\n",
       "      <td>8.0</td>\n",
       "      <td>Y</td>\n",
       "      <td>4</td>\n",
       "    </tr>\n",
       "  </tbody>\n",
       "</table>\n",
       "</div>"
      ],
      "text/plain": [
       "    playerID  yearID teamID lgID  inseason   G   W   L  rank plyrMgr  id\n",
       "0  wrighha01    1871    BS1  NaN         1  31  20  10   3.0       Y   0\n",
       "1   woodji01    1871    CH1  NaN         1  28  19   9   2.0       Y   1\n",
       "2  paborch01    1871    CL1  NaN         1  29  10  19   8.0       Y   2\n",
       "3  lennobi01    1871    FW1  NaN         1  14   5   9   8.0       Y   3\n",
       "4  deaneha01    1871    FW1  NaN         2   5   2   3   8.0       Y   4"
      ]
     },
     "execution_count": 11,
     "metadata": {},
     "output_type": "execute_result"
    }
   ],
   "source": [
    "managers.head()"
   ]
  },
  {
   "cell_type": "markdown",
   "metadata": {},
   "source": [
    "#### Task 2 - Create a `sqlalchemy` types `dict`"
   ]
  },
  {
   "cell_type": "code",
   "execution_count": 12,
   "metadata": {},
   "outputs": [],
   "source": [
    "from sqlalchemy import String, Integer\n",
    "sql_types = {'id':Integer,\n",
    "             'playerID':String, \n",
    "             'plyrMgr':String,\n",
    "             'teamID':String, \n",
    "             'lgID':String, \n",
    "             'yearID':Integer, \n",
    "             'inseason':Integer, \n",
    "             'G':Integer, \n",
    "             'W':Integer, \n",
    "             'L':Integer,\n",
    "             'rank':Integer}"
   ]
  },
  {
   "cell_type": "markdown",
   "metadata": {},
   "source": [
    "#### Task 4 - Create an `engine` and `schema`"
   ]
  },
  {
   "cell_type": "code",
   "execution_count": 11,
   "metadata": {},
   "outputs": [
    {
     "name": "stderr",
     "output_type": "stream",
     "text": [
      "rm: cannot remove 'databases/baseball.db': No such file or directory\n"
     ]
    }
   ],
   "source": [
    "!rm databases/baseball.db"
   ]
  },
  {
   "cell_type": "code",
   "execution_count": 13,
   "metadata": {},
   "outputs": [
    {
     "name": "stdout",
     "output_type": "stream",
     "text": [
      "\n",
      "CREATE TABLE manager (\n",
      "\t\"playerID\" VARCHAR, \n",
      "\t\"yearID\" INTEGER, \n",
      "\t\"teamID\" VARCHAR, \n",
      "\t\"lgID\" VARCHAR, \n",
      "\tinseason INTEGER, \n",
      "\t\"G\" INTEGER, \n",
      "\t\"W\" INTEGER, \n",
      "\t\"L\" INTEGER, \n",
      "\trank INTEGER, \n",
      "\t\"plyrMgr\" VARCHAR, \n",
      "\tid INTEGER NOT NULL, \n",
      "\tCONSTRAINT manager_pk PRIMARY KEY (id)\n",
      ")\n",
      "\n",
      "\n"
     ]
    }
   ],
   "source": [
    "from sqlalchemy import create_engine\n",
    "mang_eng = create_engine(\"sqlite:///databases/baseball.db\")\n",
    "mang_eng.echo = True\n",
    "schema = pd.io.sql.get_schema(managers, 'manager', keys='id', con=mang_eng, dtype=sql_types)\n",
    "print(schema)"
   ]
  },
  {
   "cell_type": "markdown",
   "metadata": {},
   "source": [
    "#### Execute the `schema`"
   ]
  },
  {
   "cell_type": "code",
   "execution_count": 14,
   "metadata": {},
   "outputs": [
    {
     "name": "stdout",
     "output_type": "stream",
     "text": [
      "2019-01-30 12:30:48,988 INFO sqlalchemy.engine.base.Engine SELECT CAST('test plain returns' AS VARCHAR(60)) AS anon_1\n",
      "2019-01-30 12:30:48,989 INFO sqlalchemy.engine.base.Engine ()\n",
      "2019-01-30 12:30:48,992 INFO sqlalchemy.engine.base.Engine SELECT CAST('test unicode returns' AS VARCHAR(60)) AS anon_1\n",
      "2019-01-30 12:30:48,993 INFO sqlalchemy.engine.base.Engine ()\n",
      "2019-01-30 12:30:48,995 INFO sqlalchemy.engine.base.Engine \n",
      "CREATE TABLE manager (\n",
      "\t\"playerID\" VARCHAR, \n",
      "\t\"yearID\" INTEGER, \n",
      "\t\"teamID\" VARCHAR, \n",
      "\t\"lgID\" VARCHAR, \n",
      "\tinseason INTEGER, \n",
      "\t\"G\" INTEGER, \n",
      "\t\"W\" INTEGER, \n",
      "\t\"L\" INTEGER, \n",
      "\trank INTEGER, \n",
      "\t\"plyrMgr\" VARCHAR, \n",
      "\tid INTEGER NOT NULL, \n",
      "\tCONSTRAINT manager_pk PRIMARY KEY (id)\n",
      ")\n",
      "\n",
      "\n",
      "2019-01-30 12:30:48,996 INFO sqlalchemy.engine.base.Engine ()\n",
      "2019-01-30 12:30:49,017 INFO sqlalchemy.engine.base.Engine COMMIT\n"
     ]
    },
    {
     "data": {
      "text/plain": [
       "<sqlalchemy.engine.result.ResultProxy at 0x1fb52b18630>"
      ]
     },
     "execution_count": 14,
     "metadata": {},
     "output_type": "execute_result"
    }
   ],
   "source": [
    "mang_eng.execute(schema)"
   ]
  },
  {
   "cell_type": "code",
   "execution_count": 15,
   "metadata": {},
   "outputs": [
    {
     "data": {
      "text/plain": [
       "(3469, 11)"
      ]
     },
     "execution_count": 15,
     "metadata": {},
     "output_type": "execute_result"
    }
   ],
   "source": [
    "managers.shape"
   ]
  },
  {
   "cell_type": "markdown",
   "metadata": {},
   "source": [
    "#### Task 5 - Use `to_sql` with `if_exists='append'` to insert the data"
   ]
  },
  {
   "cell_type": "code",
   "execution_count": 16,
   "metadata": {},
   "outputs": [
    {
     "name": "stdout",
     "output_type": "stream",
     "text": [
      "2019-01-30 12:30:54,238 INFO sqlalchemy.engine.base.Engine PRAGMA table_info(\"manager\")\n",
      "2019-01-30 12:30:54,239 INFO sqlalchemy.engine.base.Engine ()\n",
      "2019-01-30 12:30:54,246 INFO sqlalchemy.engine.base.Engine BEGIN (implicit)\n",
      "2019-01-30 12:30:54,377 INFO sqlalchemy.engine.base.Engine INSERT INTO manager (\"playerID\", \"yearID\", \"teamID\", \"lgID\", inseason, \"G\", \"W\", \"L\", rank, \"plyrMgr\", id) VALUES (?, ?, ?, ?, ?, ?, ?, ?, ?, ?, ?)\n",
      "2019-01-30 12:30:54,379 INFO sqlalchemy.engine.base.Engine (('wrighha01', 1871, 'BS1', None, 1, 31, 20, 10, 3.0, 'Y', 0), ('woodji01', 1871, 'CH1', None, 1, 28, 19, 9, 2.0, 'Y', 1), ('paborch01', 1871, 'CL1', None, 1, 29, 10, 19, 8.0, 'Y', 2), ('lennobi01', 1871, 'FW1', None, 1, 14, 5, 9, 8.0, 'Y', 3), ('deaneha01', 1871, 'FW1', None, 2, 5, 2, 3, 8.0, 'Y', 4), ('fergubo01', 1871, 'NY2', None, 1, 33, 16, 17, 5.0, 'Y', 5), ('mcbridi01', 1871, 'PH1', None, 1, 28, 21, 7, 1.0, 'Y', 6), ('hastisc01', 1871, 'RC1', None, 1, 25, 4, 21, 9.0, 'Y', 7)  ... displaying 10 of 3469 total bound parameter sets ...  ('bakerdu01', 2017, 'WAS', 'NL', 1, 160, 95, 65, 1.0, 'N', 3467), ('speiech01', 2017, 'WAS', 'NL', 2, 2, 2, 0, 1.0, 'N', 3468))\n",
      "2019-01-30 12:30:54,406 INFO sqlalchemy.engine.base.Engine COMMIT\n"
     ]
    }
   ],
   "source": [
    "managers.to_sql('manager', \n",
    "                con=mang_eng, \n",
    "                dtype=sql_types, \n",
    "                index=False,\n",
    "                if_exists='append')"
   ]
  },
  {
   "cell_type": "markdown",
   "metadata": {},
   "source": [
    "#### Task 6 - Query the table to make sure it all worked"
   ]
  },
  {
   "cell_type": "code",
   "execution_count": 17,
   "metadata": {},
   "outputs": [],
   "source": [
    "from sqlalchemy.ext.automap import automap_base\n",
    "from sqlalchemy.orm import sessionmaker\n",
    "from sqlalchemy import select\n",
    "\n",
    "mang_eng2 = create_engine(\"sqlite:///databases/baseball.db\") \n",
    "Session = sessionmaker(mang_eng)\n",
    "session = Session()"
   ]
  },
  {
   "cell_type": "code",
   "execution_count": 18,
   "metadata": {},
   "outputs": [],
   "source": [
    "Base = automap_base()\n",
    "Base.prepare(mang_eng2, reflect=True)\n",
    "Manager = Base.classes.manager"
   ]
  },
  {
   "cell_type": "code",
   "execution_count": 19,
   "metadata": {
    "scrolled": true
   },
   "outputs": [
    {
     "name": "stdout",
     "output_type": "stream",
     "text": [
      "2019-01-30 12:31:00,422 INFO sqlalchemy.engine.base.Engine BEGIN (implicit)\n",
      "2019-01-30 12:31:00,424 INFO sqlalchemy.engine.base.Engine SELECT * \n",
      "FROM manager\n",
      "2019-01-30 12:31:00,427 INFO sqlalchemy.engine.base.Engine ()\n"
     ]
    },
    {
     "data": {
      "text/plain": [
       "[{'playerID': 'wrighha01',\n",
       "  'yearID': 1871,\n",
       "  'teamID': 'BS1',\n",
       "  'lgID': None,\n",
       "  'inseason': 1,\n",
       "  'G': 31,\n",
       "  'W': 20,\n",
       "  'L': 10,\n",
       "  'rank': 3,\n",
       "  'plyrMgr': 'Y',\n",
       "  'id': 0},\n",
       " {'playerID': 'woodji01',\n",
       "  'yearID': 1871,\n",
       "  'teamID': 'CH1',\n",
       "  'lgID': None,\n",
       "  'inseason': 1,\n",
       "  'G': 28,\n",
       "  'W': 19,\n",
       "  'L': 9,\n",
       "  'rank': 2,\n",
       "  'plyrMgr': 'Y',\n",
       "  'id': 1},\n",
       " {'playerID': 'paborch01',\n",
       "  'yearID': 1871,\n",
       "  'teamID': 'CL1',\n",
       "  'lgID': None,\n",
       "  'inseason': 1,\n",
       "  'G': 29,\n",
       "  'W': 10,\n",
       "  'L': 19,\n",
       "  'rank': 8,\n",
       "  'plyrMgr': 'Y',\n",
       "  'id': 2},\n",
       " {'playerID': 'lennobi01',\n",
       "  'yearID': 1871,\n",
       "  'teamID': 'FW1',\n",
       "  'lgID': None,\n",
       "  'inseason': 1,\n",
       "  'G': 14,\n",
       "  'W': 5,\n",
       "  'L': 9,\n",
       "  'rank': 8,\n",
       "  'plyrMgr': 'Y',\n",
       "  'id': 3},\n",
       " {'playerID': 'deaneha01',\n",
       "  'yearID': 1871,\n",
       "  'teamID': 'FW1',\n",
       "  'lgID': None,\n",
       "  'inseason': 2,\n",
       "  'G': 5,\n",
       "  'W': 2,\n",
       "  'L': 3,\n",
       "  'rank': 8,\n",
       "  'plyrMgr': 'Y',\n",
       "  'id': 4}]"
      ]
     },
     "execution_count": 19,
     "metadata": {},
     "output_type": "execute_result"
    }
   ],
   "source": [
    "from more_sqlalchemy import result_dicts\n",
    "stmt = select('*').select_from(Manager)\n",
    "session.execute(stmt).fetchmany(5) >> result_dicts"
   ]
  },
  {
   "cell_type": "markdown",
   "metadata": {},
   "source": [
    "## Part 2 - Awards for Managers\n",
    "\n",
    "Now add a table for the `AwardsManagers.csv` table."
   ]
  },
  {
   "cell_type": "code",
   "execution_count": 20,
   "metadata": {},
   "outputs": [
    {
     "data": {
      "text/html": [
       "<div>\n",
       "<style scoped>\n",
       "    .dataframe tbody tr th:only-of-type {\n",
       "        vertical-align: middle;\n",
       "    }\n",
       "\n",
       "    .dataframe tbody tr th {\n",
       "        vertical-align: top;\n",
       "    }\n",
       "\n",
       "    .dataframe thead th {\n",
       "        text-align: right;\n",
       "    }\n",
       "</style>\n",
       "<table border=\"1\" class=\"dataframe\">\n",
       "  <thead>\n",
       "    <tr style=\"text-align: right;\">\n",
       "      <th></th>\n",
       "      <th>playerID</th>\n",
       "      <th>awardID</th>\n",
       "      <th>yearID</th>\n",
       "      <th>lgID</th>\n",
       "      <th>tie</th>\n",
       "      <th>notes</th>\n",
       "    </tr>\n",
       "  </thead>\n",
       "  <tbody>\n",
       "    <tr>\n",
       "      <th>0</th>\n",
       "      <td>larusto01</td>\n",
       "      <td>BBWAA Manager of the Year</td>\n",
       "      <td>1983</td>\n",
       "      <td>AL</td>\n",
       "      <td>NaN</td>\n",
       "      <td>NaN</td>\n",
       "    </tr>\n",
       "    <tr>\n",
       "      <th>1</th>\n",
       "      <td>lasorto01</td>\n",
       "      <td>BBWAA Manager of the Year</td>\n",
       "      <td>1983</td>\n",
       "      <td>NL</td>\n",
       "      <td>NaN</td>\n",
       "      <td>NaN</td>\n",
       "    </tr>\n",
       "    <tr>\n",
       "      <th>2</th>\n",
       "      <td>andersp01</td>\n",
       "      <td>BBWAA Manager of the Year</td>\n",
       "      <td>1984</td>\n",
       "      <td>AL</td>\n",
       "      <td>NaN</td>\n",
       "      <td>NaN</td>\n",
       "    </tr>\n",
       "    <tr>\n",
       "      <th>3</th>\n",
       "      <td>freyji99</td>\n",
       "      <td>BBWAA Manager of the Year</td>\n",
       "      <td>1984</td>\n",
       "      <td>NL</td>\n",
       "      <td>NaN</td>\n",
       "      <td>NaN</td>\n",
       "    </tr>\n",
       "    <tr>\n",
       "      <th>4</th>\n",
       "      <td>coxbo01</td>\n",
       "      <td>BBWAA Manager of the Year</td>\n",
       "      <td>1985</td>\n",
       "      <td>AL</td>\n",
       "      <td>NaN</td>\n",
       "      <td>NaN</td>\n",
       "    </tr>\n",
       "  </tbody>\n",
       "</table>\n",
       "</div>"
      ],
      "text/plain": [
       "    playerID                    awardID  yearID lgID  tie notes\n",
       "0  larusto01  BBWAA Manager of the Year    1983   AL  NaN   NaN\n",
       "1  lasorto01  BBWAA Manager of the Year    1983   NL  NaN   NaN\n",
       "2  andersp01  BBWAA Manager of the Year    1984   AL  NaN   NaN\n",
       "3   freyji99  BBWAA Manager of the Year    1984   NL  NaN   NaN\n",
       "4    coxbo01  BBWAA Manager of the Year    1985   AL  NaN   NaN"
      ]
     },
     "execution_count": 20,
     "metadata": {},
     "output_type": "execute_result"
    }
   ],
   "source": [
    "Awards = pd.read_csv('~/Desktop/baseball/core/AwardsManagers.csv')\n",
    "Awards.head()"
   ]
  },
  {
   "cell_type": "code",
   "execution_count": 21,
   "metadata": {},
   "outputs": [
    {
     "data": {
      "text/plain": [
       "Index(['playerID', 'awardID', 'yearID', 'lgID', 'tie', 'notes'], dtype='object')"
      ]
     },
     "execution_count": 21,
     "metadata": {},
     "output_type": "execute_result"
    }
   ],
   "source": [
    "Awards.columns"
   ]
  },
  {
   "cell_type": "code",
   "execution_count": 22,
   "metadata": {},
   "outputs": [
    {
     "data": {
      "text/plain": [
       "[('playerID', False),\n",
       " ('awardID', False),\n",
       " ('yearID', False),\n",
       " ('lgID', False),\n",
       " ('tie', False),\n",
       " ('notes', False)]"
      ]
     },
     "execution_count": 22,
     "metadata": {},
     "output_type": "execute_result"
    }
   ],
   "source": [
    "[(col, Awards[col].is_unique) for col in Awards]"
   ]
  },
  {
   "cell_type": "code",
   "execution_count": 23,
   "metadata": {},
   "outputs": [
    {
     "data": {
      "text/plain": [
       "(179, 6)"
      ]
     },
     "execution_count": 23,
     "metadata": {},
     "output_type": "execute_result"
    }
   ],
   "source": [
    "Awards.shape"
   ]
  },
  {
   "cell_type": "code",
   "execution_count": 24,
   "metadata": {},
   "outputs": [
    {
     "data": {
      "text/html": [
       "<div>\n",
       "<style scoped>\n",
       "    .dataframe tbody tr th:only-of-type {\n",
       "        vertical-align: middle;\n",
       "    }\n",
       "\n",
       "    .dataframe tbody tr th {\n",
       "        vertical-align: top;\n",
       "    }\n",
       "\n",
       "    .dataframe thead th {\n",
       "        text-align: right;\n",
       "    }\n",
       "</style>\n",
       "<table border=\"1\" class=\"dataframe\">\n",
       "  <thead>\n",
       "    <tr style=\"text-align: right;\">\n",
       "      <th></th>\n",
       "      <th>playerID</th>\n",
       "      <th>awardID</th>\n",
       "      <th>yearID</th>\n",
       "      <th>lgID</th>\n",
       "      <th>tie</th>\n",
       "      <th>notes</th>\n",
       "    </tr>\n",
       "  </thead>\n",
       "  <tbody>\n",
       "    <tr>\n",
       "      <th>0</th>\n",
       "      <td>larusto01</td>\n",
       "      <td>BBWAA Manager of the Year</td>\n",
       "      <td>1983</td>\n",
       "      <td>AL</td>\n",
       "      <td>NaN</td>\n",
       "      <td>NaN</td>\n",
       "    </tr>\n",
       "    <tr>\n",
       "      <th>1</th>\n",
       "      <td>lasorto01</td>\n",
       "      <td>BBWAA Manager of the Year</td>\n",
       "      <td>1983</td>\n",
       "      <td>NL</td>\n",
       "      <td>NaN</td>\n",
       "      <td>NaN</td>\n",
       "    </tr>\n",
       "    <tr>\n",
       "      <th>2</th>\n",
       "      <td>andersp01</td>\n",
       "      <td>BBWAA Manager of the Year</td>\n",
       "      <td>1984</td>\n",
       "      <td>AL</td>\n",
       "      <td>NaN</td>\n",
       "      <td>NaN</td>\n",
       "    </tr>\n",
       "    <tr>\n",
       "      <th>3</th>\n",
       "      <td>freyji99</td>\n",
       "      <td>BBWAA Manager of the Year</td>\n",
       "      <td>1984</td>\n",
       "      <td>NL</td>\n",
       "      <td>NaN</td>\n",
       "      <td>NaN</td>\n",
       "    </tr>\n",
       "    <tr>\n",
       "      <th>4</th>\n",
       "      <td>coxbo01</td>\n",
       "      <td>BBWAA Manager of the Year</td>\n",
       "      <td>1985</td>\n",
       "      <td>AL</td>\n",
       "      <td>NaN</td>\n",
       "      <td>NaN</td>\n",
       "    </tr>\n",
       "  </tbody>\n",
       "</table>\n",
       "</div>"
      ],
      "text/plain": [
       "    playerID                    awardID  yearID lgID  tie notes\n",
       "0  larusto01  BBWAA Manager of the Year    1983   AL  NaN   NaN\n",
       "1  lasorto01  BBWAA Manager of the Year    1983   NL  NaN   NaN\n",
       "2  andersp01  BBWAA Manager of the Year    1984   AL  NaN   NaN\n",
       "3   freyji99  BBWAA Manager of the Year    1984   NL  NaN   NaN\n",
       "4    coxbo01  BBWAA Manager of the Year    1985   AL  NaN   NaN"
      ]
     },
     "execution_count": 24,
     "metadata": {},
     "output_type": "execute_result"
    }
   ],
   "source": [
    "Awards.head()"
   ]
  },
  {
   "cell_type": "code",
   "execution_count": 25,
   "metadata": {},
   "outputs": [],
   "source": [
    "from dfply import mutate\n",
    "Awards = (Awards >>\n",
    "            mutate(id = Awards.index))"
   ]
  },
  {
   "cell_type": "code",
   "execution_count": 26,
   "metadata": {},
   "outputs": [
    {
     "data": {
      "text/plain": [
       "True"
      ]
     },
     "execution_count": 26,
     "metadata": {},
     "output_type": "execute_result"
    }
   ],
   "source": [
    "Awards.id.is_unique"
   ]
  },
  {
   "cell_type": "code",
   "execution_count": 27,
   "metadata": {},
   "outputs": [
    {
     "data": {
      "text/plain": [
       "playerID    object\n",
       "awardID     object\n",
       "yearID       int64\n",
       "lgID        object\n",
       "tie         object\n",
       "notes       object\n",
       "id           int64\n",
       "dtype: object"
      ]
     },
     "execution_count": 27,
     "metadata": {},
     "output_type": "execute_result"
    }
   ],
   "source": [
    "Awards.dtypes"
   ]
  },
  {
   "cell_type": "code",
   "execution_count": 28,
   "metadata": {},
   "outputs": [],
   "source": [
    "from sqlalchemy import String, Integer\n",
    "sql_types = {'id':Integer,\n",
    "             'playerID':String, \n",
    "             'awardID':String, \n",
    "             'lgID':String, \n",
    "             'yearID':Integer, \n",
    "             'LgID':String, \n",
    "             'tie':String, \n",
    "             'notes':String, \n",
    "             'id':Integer}"
   ]
  },
  {
   "cell_type": "code",
   "execution_count": 29,
   "metadata": {},
   "outputs": [
    {
     "name": "stdout",
     "output_type": "stream",
     "text": [
      "\n",
      "CREATE TABLE awards (\n",
      "\t\"playerID\" VARCHAR, \n",
      "\t\"awardID\" VARCHAR, \n",
      "\t\"yearID\" INTEGER, \n",
      "\t\"lgID\" VARCHAR, \n",
      "\ttie VARCHAR, \n",
      "\tnotes VARCHAR, \n",
      "\tid INTEGER NOT NULL, \n",
      "\tCONSTRAINT awards_pk PRIMARY KEY (id)\n",
      ")\n",
      "\n",
      "\n"
     ]
    }
   ],
   "source": [
    "from sqlalchemy import create_engine\n",
    "schema = pd.io.sql.get_schema(Awards, 'awards', keys='id', con=mang_eng, dtype=sql_types)\n",
    "print(schema)"
   ]
  },
  {
   "cell_type": "code",
   "execution_count": 30,
   "metadata": {},
   "outputs": [
    {
     "name": "stdout",
     "output_type": "stream",
     "text": [
      "2019-01-30 12:31:41,935 INFO sqlalchemy.engine.base.Engine \n",
      "CREATE TABLE awards (\n",
      "\t\"playerID\" VARCHAR, \n",
      "\t\"awardID\" VARCHAR, \n",
      "\t\"yearID\" INTEGER, \n",
      "\t\"lgID\" VARCHAR, \n",
      "\ttie VARCHAR, \n",
      "\tnotes VARCHAR, \n",
      "\tid INTEGER NOT NULL, \n",
      "\tCONSTRAINT awards_pk PRIMARY KEY (id)\n",
      ")\n",
      "\n",
      "\n",
      "2019-01-30 12:31:41,936 INFO sqlalchemy.engine.base.Engine ()\n",
      "2019-01-30 12:31:41,958 INFO sqlalchemy.engine.base.Engine COMMIT\n"
     ]
    },
    {
     "data": {
      "text/plain": [
       "<sqlalchemy.engine.result.ResultProxy at 0x1fb52b184e0>"
      ]
     },
     "execution_count": 30,
     "metadata": {},
     "output_type": "execute_result"
    }
   ],
   "source": [
    "mang_eng.execute(schema)"
   ]
  },
  {
   "cell_type": "code",
   "execution_count": 31,
   "metadata": {},
   "outputs": [
    {
     "data": {
      "text/plain": [
       "(179, 7)"
      ]
     },
     "execution_count": 31,
     "metadata": {},
     "output_type": "execute_result"
    }
   ],
   "source": [
    "Awards.shape"
   ]
  },
  {
   "cell_type": "code",
   "execution_count": 32,
   "metadata": {},
   "outputs": [
    {
     "name": "stdout",
     "output_type": "stream",
     "text": [
      "2019-01-30 12:36:57,858 INFO sqlalchemy.engine.base.Engine PRAGMA table_info(\"awards\")\n",
      "2019-01-30 12:36:57,860 INFO sqlalchemy.engine.base.Engine ()\n",
      "2019-01-30 12:36:57,863 INFO sqlalchemy.engine.base.Engine BEGIN (implicit)\n",
      "2019-01-30 12:36:57,868 INFO sqlalchemy.engine.base.Engine INSERT INTO awards (\"playerID\", \"awardID\", \"yearID\", \"lgID\", tie, notes, id) VALUES (?, ?, ?, ?, ?, ?, ?)\n",
      "2019-01-30 12:36:57,869 INFO sqlalchemy.engine.base.Engine (('larusto01', 'BBWAA Manager of the Year', 1983, 'AL', None, None, 0), ('lasorto01', 'BBWAA Manager of the Year', 1983, 'NL', None, None, 1), ('andersp01', 'BBWAA Manager of the Year', 1984, 'AL', None, None, 2), ('freyji99', 'BBWAA Manager of the Year', 1984, 'NL', None, None, 3), ('coxbo01', 'BBWAA Manager of the Year', 1985, 'AL', None, None, 4), ('herzowh01', 'BBWAA Manager of the Year', 1985, 'NL', None, None, 5), ('mcnamjo99', 'BBWAA Manager of the Year', 1986, 'AL', None, None, 6), ('lanieha01', 'BBWAA Manager of the Year', 1986, 'NL', None, None, 7)  ... displaying 10 of 179 total bound parameter sets ...  ('francte01', 'BBWAA Manager of the Year', 2016, 'AL', None, '\\t', 177), ('roberda07', 'BBWAA Manager of the Year', 2016, 'NL', None, None, 178))\n",
      "2019-01-30 12:36:57,876 INFO sqlalchemy.engine.base.Engine COMMIT\n"
     ]
    }
   ],
   "source": [
    "Awards.to_sql('awards', \n",
    "                con=mang_eng, \n",
    "                dtype=sql_types, \n",
    "                index=False,\n",
    "                if_exists='append')"
   ]
  },
  {
   "cell_type": "code",
   "execution_count": 33,
   "metadata": {},
   "outputs": [],
   "source": [
    "from sqlalchemy.ext.automap import automap_base\n",
    "from sqlalchemy.orm import sessionmaker\n",
    "from sqlalchemy import select\n",
    "\n",
    "mang_eng2 = create_engine(\"sqlite:///databases/baseball.db\") \n",
    "Session = sessionmaker(mang_eng)\n",
    "session = Session()"
   ]
  },
  {
   "cell_type": "code",
   "execution_count": 35,
   "metadata": {},
   "outputs": [],
   "source": [
    "Base = automap_base()\n",
    "Base.prepare(mang_eng2, reflect=True)\n",
    "Award = Base.classes.awards"
   ]
  },
  {
   "cell_type": "code",
   "execution_count": 36,
   "metadata": {
    "scrolled": true
   },
   "outputs": [
    {
     "name": "stdout",
     "output_type": "stream",
     "text": [
      "2019-01-30 12:38:11,054 INFO sqlalchemy.engine.base.Engine BEGIN (implicit)\n",
      "2019-01-30 12:38:11,056 INFO sqlalchemy.engine.base.Engine SELECT * \n",
      "FROM awards\n",
      "2019-01-30 12:38:11,057 INFO sqlalchemy.engine.base.Engine ()\n"
     ]
    },
    {
     "data": {
      "text/plain": [
       "[{'playerID': 'larusto01',\n",
       "  'awardID': 'BBWAA Manager of the Year',\n",
       "  'yearID': 1983,\n",
       "  'lgID': 'AL',\n",
       "  'tie': None,\n",
       "  'notes': None,\n",
       "  'id': 0},\n",
       " {'playerID': 'lasorto01',\n",
       "  'awardID': 'BBWAA Manager of the Year',\n",
       "  'yearID': 1983,\n",
       "  'lgID': 'NL',\n",
       "  'tie': None,\n",
       "  'notes': None,\n",
       "  'id': 1},\n",
       " {'playerID': 'andersp01',\n",
       "  'awardID': 'BBWAA Manager of the Year',\n",
       "  'yearID': 1984,\n",
       "  'lgID': 'AL',\n",
       "  'tie': None,\n",
       "  'notes': None,\n",
       "  'id': 2},\n",
       " {'playerID': 'freyji99',\n",
       "  'awardID': 'BBWAA Manager of the Year',\n",
       "  'yearID': 1984,\n",
       "  'lgID': 'NL',\n",
       "  'tie': None,\n",
       "  'notes': None,\n",
       "  'id': 3},\n",
       " {'playerID': 'coxbo01',\n",
       "  'awardID': 'BBWAA Manager of the Year',\n",
       "  'yearID': 1985,\n",
       "  'lgID': 'AL',\n",
       "  'tie': None,\n",
       "  'notes': None,\n",
       "  'id': 4}]"
      ]
     },
     "execution_count": 36,
     "metadata": {},
     "output_type": "execute_result"
    }
   ],
   "source": [
    "from more_sqlalchemy import result_dicts\n",
    "stmt = select('*').select_from(Award)\n",
    "session.execute(stmt).fetchmany(5) >> result_dicts"
   ]
  },
  {
   "cell_type": "markdown",
   "metadata": {},
   "source": [
    "## Part 3 - Super Hero Powers\n",
    "\n",
    "Now make a database and table for the super hero powers."
   ]
  },
  {
   "cell_type": "markdown",
   "metadata": {},
   "source": [
    "## Problem 1\n",
    "    \n",
    "**Task:** One the `super_hero_powers.csv` and verify that the contents of the columns are all Boolean.  In this problem, you need to\n",
    "\n",
    "1. Create a `dict` that defines the `pandas` column type\n",
    "2. Read the file in using a `pd.read_csv`.\n",
    "3. Clean up all the column labels.\n",
    "    \n",
    "**Be sure to write clean code!**\n"
   ]
  },
  {
   "cell_type": "code",
   "execution_count": 7,
   "metadata": {},
   "outputs": [
    {
     "data": {
      "text/html": [
       "<div>\n",
       "<style scoped>\n",
       "    .dataframe tbody tr th:only-of-type {\n",
       "        vertical-align: middle;\n",
       "    }\n",
       "\n",
       "    .dataframe tbody tr th {\n",
       "        vertical-align: top;\n",
       "    }\n",
       "\n",
       "    .dataframe thead th {\n",
       "        text-align: right;\n",
       "    }\n",
       "</style>\n",
       "<table border=\"1\" class=\"dataframe\">\n",
       "  <thead>\n",
       "    <tr style=\"text-align: right;\">\n",
       "      <th></th>\n",
       "      <th>hero_names</th>\n",
       "      <th>Agility</th>\n",
       "      <th>Accelerated Healing</th>\n",
       "      <th>Lantern Power Ring</th>\n",
       "      <th>Dimensional Awareness</th>\n",
       "      <th>Cold Resistance</th>\n",
       "      <th>Durability</th>\n",
       "      <th>Stealth</th>\n",
       "      <th>Energy Absorption</th>\n",
       "      <th>Flight</th>\n",
       "      <th>...</th>\n",
       "      <th>Web Creation</th>\n",
       "      <th>Reality Warping</th>\n",
       "      <th>Odin Force</th>\n",
       "      <th>Symbiote Costume</th>\n",
       "      <th>Speed Force</th>\n",
       "      <th>Phoenix Force</th>\n",
       "      <th>Molecular Dissipation</th>\n",
       "      <th>Vision - Cryo</th>\n",
       "      <th>Omnipresent</th>\n",
       "      <th>Omniscient</th>\n",
       "    </tr>\n",
       "  </thead>\n",
       "  <tbody>\n",
       "    <tr>\n",
       "      <th>0</th>\n",
       "      <td>3-D Man</td>\n",
       "      <td>True</td>\n",
       "      <td>False</td>\n",
       "      <td>False</td>\n",
       "      <td>False</td>\n",
       "      <td>False</td>\n",
       "      <td>False</td>\n",
       "      <td>False</td>\n",
       "      <td>False</td>\n",
       "      <td>False</td>\n",
       "      <td>...</td>\n",
       "      <td>False</td>\n",
       "      <td>False</td>\n",
       "      <td>False</td>\n",
       "      <td>False</td>\n",
       "      <td>False</td>\n",
       "      <td>False</td>\n",
       "      <td>False</td>\n",
       "      <td>False</td>\n",
       "      <td>False</td>\n",
       "      <td>False</td>\n",
       "    </tr>\n",
       "    <tr>\n",
       "      <th>1</th>\n",
       "      <td>A-Bomb</td>\n",
       "      <td>False</td>\n",
       "      <td>True</td>\n",
       "      <td>False</td>\n",
       "      <td>False</td>\n",
       "      <td>False</td>\n",
       "      <td>True</td>\n",
       "      <td>False</td>\n",
       "      <td>False</td>\n",
       "      <td>False</td>\n",
       "      <td>...</td>\n",
       "      <td>False</td>\n",
       "      <td>False</td>\n",
       "      <td>False</td>\n",
       "      <td>False</td>\n",
       "      <td>False</td>\n",
       "      <td>False</td>\n",
       "      <td>False</td>\n",
       "      <td>False</td>\n",
       "      <td>False</td>\n",
       "      <td>False</td>\n",
       "    </tr>\n",
       "    <tr>\n",
       "      <th>2</th>\n",
       "      <td>Abe Sapien</td>\n",
       "      <td>True</td>\n",
       "      <td>True</td>\n",
       "      <td>False</td>\n",
       "      <td>False</td>\n",
       "      <td>True</td>\n",
       "      <td>True</td>\n",
       "      <td>False</td>\n",
       "      <td>False</td>\n",
       "      <td>False</td>\n",
       "      <td>...</td>\n",
       "      <td>False</td>\n",
       "      <td>False</td>\n",
       "      <td>False</td>\n",
       "      <td>False</td>\n",
       "      <td>False</td>\n",
       "      <td>False</td>\n",
       "      <td>False</td>\n",
       "      <td>False</td>\n",
       "      <td>False</td>\n",
       "      <td>False</td>\n",
       "    </tr>\n",
       "    <tr>\n",
       "      <th>3</th>\n",
       "      <td>Abin Sur</td>\n",
       "      <td>False</td>\n",
       "      <td>False</td>\n",
       "      <td>True</td>\n",
       "      <td>False</td>\n",
       "      <td>False</td>\n",
       "      <td>False</td>\n",
       "      <td>False</td>\n",
       "      <td>False</td>\n",
       "      <td>False</td>\n",
       "      <td>...</td>\n",
       "      <td>False</td>\n",
       "      <td>False</td>\n",
       "      <td>False</td>\n",
       "      <td>False</td>\n",
       "      <td>False</td>\n",
       "      <td>False</td>\n",
       "      <td>False</td>\n",
       "      <td>False</td>\n",
       "      <td>False</td>\n",
       "      <td>False</td>\n",
       "    </tr>\n",
       "    <tr>\n",
       "      <th>4</th>\n",
       "      <td>Abomination</td>\n",
       "      <td>False</td>\n",
       "      <td>True</td>\n",
       "      <td>False</td>\n",
       "      <td>False</td>\n",
       "      <td>False</td>\n",
       "      <td>False</td>\n",
       "      <td>False</td>\n",
       "      <td>False</td>\n",
       "      <td>False</td>\n",
       "      <td>...</td>\n",
       "      <td>False</td>\n",
       "      <td>False</td>\n",
       "      <td>False</td>\n",
       "      <td>False</td>\n",
       "      <td>False</td>\n",
       "      <td>False</td>\n",
       "      <td>False</td>\n",
       "      <td>False</td>\n",
       "      <td>False</td>\n",
       "      <td>False</td>\n",
       "    </tr>\n",
       "  </tbody>\n",
       "</table>\n",
       "<p>5 rows × 168 columns</p>\n",
       "</div>"
      ],
      "text/plain": [
       "    hero_names  Agility  Accelerated Healing  Lantern Power Ring  \\\n",
       "0      3-D Man     True                False               False   \n",
       "1       A-Bomb    False                 True               False   \n",
       "2   Abe Sapien     True                 True               False   \n",
       "3     Abin Sur    False                False                True   \n",
       "4  Abomination    False                 True               False   \n",
       "\n",
       "   Dimensional Awareness  Cold Resistance  Durability  Stealth  \\\n",
       "0                  False            False       False    False   \n",
       "1                  False            False        True    False   \n",
       "2                  False             True        True    False   \n",
       "3                  False            False       False    False   \n",
       "4                  False            False       False    False   \n",
       "\n",
       "   Energy Absorption  Flight  ...  Web Creation  Reality Warping  Odin Force  \\\n",
       "0              False   False  ...         False            False       False   \n",
       "1              False   False  ...         False            False       False   \n",
       "2              False   False  ...         False            False       False   \n",
       "3              False   False  ...         False            False       False   \n",
       "4              False   False  ...         False            False       False   \n",
       "\n",
       "   Symbiote Costume  Speed Force  Phoenix Force  Molecular Dissipation  \\\n",
       "0             False        False          False                  False   \n",
       "1             False        False          False                  False   \n",
       "2             False        False          False                  False   \n",
       "3             False        False          False                  False   \n",
       "4             False        False          False                  False   \n",
       "\n",
       "   Vision - Cryo  Omnipresent  Omniscient  \n",
       "0          False        False       False  \n",
       "1          False        False       False  \n",
       "2          False        False       False  \n",
       "3          False        False       False  \n",
       "4          False        False       False  \n",
       "\n",
       "[5 rows x 168 columns]"
      ]
     },
     "execution_count": 7,
     "metadata": {},
     "output_type": "execute_result"
    }
   ],
   "source": [
    "import pandas as pd\n",
    "powers = pd.read_csv('./data/super_hero_powers.csv', na_values=['-',' ', '-99.0'])\n",
    "powers.head()"
   ]
  },
  {
   "cell_type": "code",
   "execution_count": 8,
   "metadata": {},
   "outputs": [
    {
     "data": {
      "text/plain": [
       "Index(['hero_names', 'Agility', 'Accelerated Healing', 'Lantern Power Ring',\n",
       "       'Dimensional Awareness', 'Cold Resistance', 'Durability', 'Stealth',\n",
       "       'Energy Absorption', 'Flight',\n",
       "       ...\n",
       "       'Web Creation', 'Reality Warping', 'Odin Force', 'Symbiote Costume',\n",
       "       'Speed Force', 'Phoenix Force', 'Molecular Dissipation',\n",
       "       'Vision - Cryo', 'Omnipresent', 'Omniscient'],\n",
       "      dtype='object', length=168)"
      ]
     },
     "execution_count": 8,
     "metadata": {},
     "output_type": "execute_result"
    }
   ],
   "source": [
    "powers.columns"
   ]
  },
  {
   "cell_type": "code",
   "execution_count": 9,
   "metadata": {},
   "outputs": [
    {
     "data": {
      "text/plain": [
       "True"
      ]
     },
     "execution_count": 9,
     "metadata": {},
     "output_type": "execute_result"
    }
   ],
   "source": [
    "powers.hero_names.is_unique"
   ]
  },
  {
   "cell_type": "code",
   "execution_count": 10,
   "metadata": {},
   "outputs": [
    {
     "data": {
      "text/plain": [
       "hero_names               object\n",
       "Agility                    bool\n",
       "Accelerated Healing        bool\n",
       "Lantern Power Ring         bool\n",
       "Dimensional Awareness      bool\n",
       "Cold Resistance            bool\n",
       "Durability                 bool\n",
       "Stealth                    bool\n",
       "Energy Absorption          bool\n",
       "Flight                     bool\n",
       "Danger Sense               bool\n",
       "Underwater breathing       bool\n",
       "Marksmanship               bool\n",
       "Weapons Master             bool\n",
       "Power Augmentation         bool\n",
       "Animal Attributes          bool\n",
       "Longevity                  bool\n",
       "Intelligence               bool\n",
       "Super Strength             bool\n",
       "Cryokinesis                bool\n",
       "Telepathy                  bool\n",
       "Energy Armor               bool\n",
       "Energy Blasts              bool\n",
       "Duplication                bool\n",
       "Size Changing              bool\n",
       "Density Control            bool\n",
       "Stamina                    bool\n",
       "Astral Travel              bool\n",
       "Audio Control              bool\n",
       "Dexterity                  bool\n",
       "                          ...  \n",
       "Intuitive aptitude         bool\n",
       "Vision - Microscopic       bool\n",
       "Melting                    bool\n",
       "Wind Control               bool\n",
       "Super Breath               bool\n",
       "Wallcrawling               bool\n",
       "Vision - Night             bool\n",
       "Vision - Infrared          bool\n",
       "Grim Reaping               bool\n",
       "Matter Absorption          bool\n",
       "The Force                  bool\n",
       "Resurrection               bool\n",
       "Terrakinesis               bool\n",
       "Vision - Heat              bool\n",
       "Vitakinesis                bool\n",
       "Radar Sense                bool\n",
       "Qwardian Power Ring        bool\n",
       "Weather Control            bool\n",
       "Vision - X-Ray             bool\n",
       "Vision - Thermal           bool\n",
       "Web Creation               bool\n",
       "Reality Warping            bool\n",
       "Odin Force                 bool\n",
       "Symbiote Costume           bool\n",
       "Speed Force                bool\n",
       "Phoenix Force              bool\n",
       "Molecular Dissipation      bool\n",
       "Vision - Cryo              bool\n",
       "Omnipresent                bool\n",
       "Omniscient                 bool\n",
       "Length: 168, dtype: object"
      ]
     },
     "execution_count": 10,
     "metadata": {},
     "output_type": "execute_result"
    }
   ],
   "source": [
    "powers.dtypes"
   ]
  },
  {
   "cell_type": "code",
   "execution_count": 13,
   "metadata": {},
   "outputs": [
    {
     "data": {
      "text/plain": [
       "{'hero_names': 'hero_names',\n",
       " 'agility': 'Agility',\n",
       " 'accelerated_healing': 'Accelerated Healing',\n",
       " 'lantern_power_ring': 'Lantern Power Ring',\n",
       " 'dimensional_awareness': 'Dimensional Awareness',\n",
       " 'cold_resistance': 'Cold Resistance',\n",
       " 'durability': 'Durability',\n",
       " 'stealth': 'Stealth',\n",
       " 'energy_absorption': 'Energy Absorption',\n",
       " 'flight': 'Flight',\n",
       " 'danger_sense': 'Danger Sense',\n",
       " 'underwater_breathing': 'Underwater breathing',\n",
       " 'marksmanship': 'Marksmanship',\n",
       " 'weapons_master': 'Weapons Master',\n",
       " 'power_augmentation': 'Power Augmentation',\n",
       " 'animal_attributes': 'Animal Attributes',\n",
       " 'longevity': 'Longevity',\n",
       " 'intelligence': 'Intelligence',\n",
       " 'super_strength': 'Super Strength',\n",
       " 'cryokinesis': 'Cryokinesis',\n",
       " 'telepathy': 'Telepathy',\n",
       " 'energy_armor': 'Energy Armor',\n",
       " 'energy_blasts': 'Energy Blasts',\n",
       " 'duplication': 'Duplication',\n",
       " 'size_changing': 'Size Changing',\n",
       " 'density_control': 'Density Control',\n",
       " 'stamina': 'Stamina',\n",
       " 'astral_travel': 'Astral Travel',\n",
       " 'audio_control': 'Audio Control',\n",
       " 'dexterity': 'Dexterity',\n",
       " 'omnitrix': 'Omnitrix',\n",
       " 'super_speed': 'Super Speed',\n",
       " 'possession': 'Possession',\n",
       " 'animal_oriented_powers': 'Animal Oriented Powers',\n",
       " 'weaponbased_powers': 'Weapon-based Powers',\n",
       " 'electrokinesis': 'Electrokinesis',\n",
       " 'darkforce_manipulation': 'Darkforce Manipulation',\n",
       " 'death_touch': 'Death Touch',\n",
       " 'teleportation': 'Teleportation',\n",
       " 'enhanced_senses': 'Enhanced Senses',\n",
       " 'telekinesis': 'Telekinesis',\n",
       " 'energy_beams': 'Energy Beams',\n",
       " 'magic': 'Magic',\n",
       " 'hyperkinesis': 'Hyperkinesis',\n",
       " 'jump': 'Jump',\n",
       " 'clairvoyance': 'Clairvoyance',\n",
       " 'dimensional_travel': 'Dimensional Travel',\n",
       " 'power_sense': 'Power Sense',\n",
       " 'shapeshifting': 'Shapeshifting',\n",
       " 'peak_human_condition': 'Peak Human Condition',\n",
       " 'immortality': 'Immortality',\n",
       " 'camouflage': 'Camouflage',\n",
       " 'element_control': 'Element Control',\n",
       " 'phasing': 'Phasing',\n",
       " 'astral_projection': 'Astral Projection',\n",
       " 'electrical_transport': 'Electrical Transport',\n",
       " 'fire_control': 'Fire Control',\n",
       " 'projection': 'Projection',\n",
       " 'summoning': 'Summoning',\n",
       " 'enhanced_memory': 'Enhanced Memory',\n",
       " 'reflexes': 'Reflexes',\n",
       " 'invulnerability': 'Invulnerability',\n",
       " 'energy_constructs': 'Energy Constructs',\n",
       " 'force_fields': 'Force Fields',\n",
       " 'selfsustenance': 'Self-Sustenance',\n",
       " 'antigravity': 'Anti-Gravity',\n",
       " 'empathy': 'Empathy',\n",
       " 'power_nullifier': 'Power Nullifier',\n",
       " 'radiation_control': 'Radiation Control',\n",
       " 'psionic_powers': 'Psionic Powers',\n",
       " 'elasticity': 'Elasticity',\n",
       " 'substance_secretion': 'Substance Secretion',\n",
       " 'elemental_transmogrification': 'Elemental Transmogrification',\n",
       " 'technopath/cyberpath': 'Technopath/Cyberpath',\n",
       " 'photographic_reflexes': 'Photographic Reflexes',\n",
       " 'seismic_power': 'Seismic Power',\n",
       " 'animation': 'Animation',\n",
       " 'precognition': 'Precognition',\n",
       " 'mind_control': 'Mind Control',\n",
       " 'fire_resistance': 'Fire Resistance',\n",
       " 'power_absorption': 'Power Absorption',\n",
       " 'enhanced_hearing': 'Enhanced Hearing',\n",
       " 'nova_force': 'Nova Force',\n",
       " 'insanity': 'Insanity',\n",
       " 'hypnokinesis': 'Hypnokinesis',\n",
       " 'animal_control': 'Animal Control',\n",
       " 'natural_armor': 'Natural Armor',\n",
       " 'intangibility': 'Intangibility',\n",
       " 'enhanced_sight': 'Enhanced Sight',\n",
       " 'molecular_manipulation': 'Molecular Manipulation',\n",
       " 'heat_generation': 'Heat Generation',\n",
       " 'adaptation': 'Adaptation',\n",
       " 'gliding': 'Gliding',\n",
       " 'power_suit': 'Power Suit',\n",
       " 'mind_blast': 'Mind Blast',\n",
       " 'probability_manipulation': 'Probability Manipulation',\n",
       " 'gravity_control': 'Gravity Control',\n",
       " 'regeneration': 'Regeneration',\n",
       " 'light_control': 'Light Control',\n",
       " 'echolocation': 'Echolocation',\n",
       " 'levitation': 'Levitation',\n",
       " 'toxin_and_disease_control': 'Toxin and Disease Control',\n",
       " 'banish': 'Banish',\n",
       " 'energy_manipulation': 'Energy Manipulation',\n",
       " 'heat_resistance': 'Heat Resistance',\n",
       " 'natural_weapons': 'Natural Weapons',\n",
       " 'time_travel': 'Time Travel',\n",
       " 'enhanced_smell': 'Enhanced Smell',\n",
       " 'illusions': 'Illusions',\n",
       " 'thirstokinesis': 'Thirstokinesis',\n",
       " 'hair_manipulation': 'Hair Manipulation',\n",
       " 'illumination': 'Illumination',\n",
       " 'omnipotent': 'Omnipotent',\n",
       " 'cloaking': 'Cloaking',\n",
       " 'changing_armor': 'Changing Armor',\n",
       " 'power_cosmic': 'Power Cosmic',\n",
       " 'biokinesis': 'Biokinesis',\n",
       " 'water_control': 'Water Control',\n",
       " 'radiation_immunity': 'Radiation Immunity',\n",
       " 'vision__telescopic': 'Vision - Telescopic',\n",
       " 'toxin_and_disease_resistance': 'Toxin and Disease Resistance',\n",
       " 'spatial_awareness': 'Spatial Awareness',\n",
       " 'energy_resistance': 'Energy Resistance',\n",
       " 'telepathy_resistance': 'Telepathy Resistance',\n",
       " 'molecular_combustion': 'Molecular Combustion',\n",
       " 'omnilingualism': 'Omnilingualism',\n",
       " 'portal_creation': 'Portal Creation',\n",
       " 'magnetism': 'Magnetism',\n",
       " 'mind_control_resistance': 'Mind Control Resistance',\n",
       " 'plant_control': 'Plant Control',\n",
       " 'sonar': 'Sonar',\n",
       " 'sonic_scream': 'Sonic Scream',\n",
       " 'time_manipulation': 'Time Manipulation',\n",
       " 'enhanced_touch': 'Enhanced Touch',\n",
       " 'magic_resistance': 'Magic Resistance',\n",
       " 'invisibility': 'Invisibility',\n",
       " 'submariner': 'Sub-Mariner',\n",
       " 'radiation_absorption': 'Radiation Absorption',\n",
       " 'intuitive_aptitude': 'Intuitive aptitude',\n",
       " 'vision__microscopic': 'Vision - Microscopic',\n",
       " 'melting': 'Melting',\n",
       " 'wind_control': 'Wind Control',\n",
       " 'super_breath': 'Super Breath',\n",
       " 'wallcrawling': 'Wallcrawling',\n",
       " 'vision__night': 'Vision - Night',\n",
       " 'vision__infrared': 'Vision - Infrared',\n",
       " 'grim_reaping': 'Grim Reaping',\n",
       " 'matter_absorption': 'Matter Absorption',\n",
       " 'the_force': 'The Force',\n",
       " 'resurrection': 'Resurrection',\n",
       " 'terrakinesis': 'Terrakinesis',\n",
       " 'vision__heat': 'Vision - Heat',\n",
       " 'vitakinesis': 'Vitakinesis',\n",
       " 'radar_sense': 'Radar Sense',\n",
       " 'qwardian_power_ring': 'Qwardian Power Ring',\n",
       " 'weather_control': 'Weather Control',\n",
       " 'vision__xray': 'Vision - X-Ray',\n",
       " 'vision__thermal': 'Vision - Thermal',\n",
       " 'web_creation': 'Web Creation',\n",
       " 'reality_warping': 'Reality Warping',\n",
       " 'odin_force': 'Odin Force',\n",
       " 'symbiote_costume': 'Symbiote Costume',\n",
       " 'speed_force': 'Speed Force',\n",
       " 'phoenix_force': 'Phoenix Force',\n",
       " 'molecular_dissipation': 'Molecular Dissipation',\n",
       " 'vision__cryo': 'Vision - Cryo',\n",
       " 'omnipresent': 'Omnipresent',\n",
       " 'omniscient': 'Omniscient'}"
      ]
     },
     "execution_count": 13,
     "metadata": {},
     "output_type": "execute_result"
    }
   ],
   "source": [
    "from dfply import *\n",
    "clean_powers = lambda pow: pow.strip().lower().replace(' ', '_').replace('-','')\n",
    "new_powers = {clean_powers(old_pow):old_pow for old_pow in powers.columns}\n",
    "new_powers"
   ]
  },
  {
   "cell_type": "code",
   "execution_count": 14,
   "metadata": {
    "scrolled": true
   },
   "outputs": [
    {
     "data": {
      "text/plain": [
       "Index(['hero_names', 'agility', 'accelerated_healing', 'lantern_power_ring',\n",
       "       'dimensional_awareness', 'cold_resistance', 'durability', 'stealth',\n",
       "       'energy_absorption', 'flight',\n",
       "       ...\n",
       "       'web_creation', 'reality_warping', 'odin_force', 'symbiote_costume',\n",
       "       'speed_force', 'phoenix_force', 'molecular_dissipation', 'vision__cryo',\n",
       "       'omnipresent', 'omniscient'],\n",
       "      dtype='object', length=168)"
      ]
     },
     "execution_count": 14,
     "metadata": {},
     "output_type": "execute_result"
    }
   ],
   "source": [
    "from dfply import rename\n",
    "powers_rebrand = (powers >>\n",
    "                 rename(**new_powers))\n",
    "powers_rebrand.columns"
   ]
  },
  {
   "cell_type": "markdown",
   "metadata": {},
   "source": [
    "## Problem 2\n",
    "    \n",
    "Now define an `sqlalchemy` table for these data using `pandas` `to_sql` dataframe method.  You can use the `sqlalchemy.String` and `sqlalchemy.Boolean` columns type, which are [documented here](https://docs.sqlalchemy.org/en/latest/core/type_basics.html)"
   ]
  },
  {
   "cell_type": "code",
   "execution_count": 15,
   "metadata": {},
   "outputs": [],
   "source": [
    "from sqlalchemy import create_engine\n",
    "engine = create_engine('sqlite:///databases/super_powers.db', echo=False)"
   ]
  },
  {
   "cell_type": "code",
   "execution_count": null,
   "metadata": {},
   "outputs": [],
   "source": [
    "from sqlalchemy import String, Boolean\n"
   ]
  },
  {
   "cell_type": "code",
   "execution_count": null,
   "metadata": {},
   "outputs": [],
   "source": []
  },
  {
   "cell_type": "code",
   "execution_count": null,
   "metadata": {},
   "outputs": [],
   "source": []
  },
  {
   "cell_type": "code",
   "execution_count": null,
   "metadata": {},
   "outputs": [],
   "source": []
  },
  {
   "cell_type": "markdown",
   "metadata": {},
   "source": [
    "## Problem 3\n",
    "    \n",
    "Now you need to make a new `engine`, `inspect` your database, and make a `session` to query the database."
   ]
  },
  {
   "cell_type": "code",
   "execution_count": null,
   "metadata": {},
   "outputs": [],
   "source": []
  },
  {
   "cell_type": "markdown",
   "metadata": {},
   "source": [
    "## Problem 4\n",
    "    \n",
    "Perform `sqlalchemy` queries to answer each of the following questions.\n",
    "\n",
    "1. How many heroes have both Super Strength and Super Speed?\n",
    "2. How many heroes have names that start with the word *Black*\n",
    "3. Are heroes with Agility more likely to have Stealth?\n",
    "4. What fraction of all heroes that can fly also have Super Strength?\n",
    "5. Consider heroes that have names that contain `\"girl\"`, `\"boy\"`, `\"woman\"`, or `\"man\"`.  Compute the following ratio\n",
    "\n",
    "$$\\frac{N(\\text{boy or man})}{N(\\text{girl or woman}}$$\n",
    "\n",
    "**Hint:** You will need to use some combination of `where`, `group_by`, and `count` for each part."
   ]
  },
  {
   "cell_type": "markdown",
   "metadata": {},
   "source": [
    "## Problem 5\n",
    "\n",
    "Tell me another cool fact about the super powers."
   ]
  },
  {
   "cell_type": "code",
   "execution_count": null,
   "metadata": {},
   "outputs": [],
   "source": []
  }
 ],
 "metadata": {
  "kernelspec": {
   "display_name": "Python 3",
   "language": "python",
   "name": "python3"
  },
  "language_info": {
   "codemirror_mode": {
    "name": "ipython",
    "version": 3
   },
   "file_extension": ".py",
   "mimetype": "text/x-python",
   "name": "python",
   "nbconvert_exporter": "python",
   "pygments_lexer": "ipython3",
   "version": "3.6.5"
  },
  "varInspector": {
   "cols": {
    "lenName": 16,
    "lenType": 16,
    "lenVar": 40
   },
   "kernels_config": {
    "python": {
     "delete_cmd_postfix": "",
     "delete_cmd_prefix": "del ",
     "library": "var_list.py",
     "varRefreshCmd": "print(var_dic_list())"
    },
    "r": {
     "delete_cmd_postfix": ") ",
     "delete_cmd_prefix": "rm(",
     "library": "var_list.r",
     "varRefreshCmd": "cat(var_dic_list()) "
    }
   },
   "types_to_exclude": [
    "module",
    "function",
    "builtin_function_or_method",
    "instance",
    "_Feature"
   ],
   "window_display": false
  }
 },
 "nbformat": 4,
 "nbformat_minor": 2
}
