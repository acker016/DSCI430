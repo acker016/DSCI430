{
 "cells": [
  {
   "cell_type": "markdown",
   "metadata": {
    "slideshow": {
     "slide_type": "slide"
    }
   },
   "source": [
    "# Reading, processing, and writing large files\n",
    "\n",
    "In this section, we will look at our second strategy for working with large files, namely reading a file in chunks, processing each chunk, then appending the results to the same file."
   ]
  },
  {
   "cell_type": "code",
   "execution_count": 1,
   "metadata": {
    "slideshow": {
     "slide_type": "fragment"
    }
   },
   "outputs": [],
   "source": [
    "import pandas as pd\n",
    "from dfply import *"
   ]
  },
  {
   "cell_type": "markdown",
   "metadata": {
    "slideshow": {
     "slide_type": "slide"
    }
   },
   "source": [
    "## Hiding stack traceback\n",
    "\n",
    "We hide the exception traceback for didactic reasons (code source: [see this post](https://stackoverflow.com/questions/46222753/how-do-i-suppress-tracebacks-in-jupyter)).  Don't run this cell if you want to see a full traceback."
   ]
  },
  {
   "cell_type": "code",
   "execution_count": 2,
   "metadata": {
    "slideshow": {
     "slide_type": "fragment"
    }
   },
   "outputs": [],
   "source": [
    "import sys\n",
    "ipython = get_ipython()\n",
    "\n",
    "def hide_traceback(exc_tuple=None, filename=None, tb_offset=None,\n",
    "                   exception_only=False, running_compiled_code=False):\n",
    "    etype, value, tb = sys.exc_info()\n",
    "    return ipython._showtraceback(etype, value, ipython.InteractiveTB.get_exception_only(etype, value))\n",
    "\n",
    "ipython.showtraceback = hide_traceback"
   ]
  },
  {
   "cell_type": "markdown",
   "metadata": {
    "slideshow": {
     "slide_type": "slide"
    }
   },
   "source": [
    "## Example 2 - Adding some dateparts and writing out the result \n",
    "\n",
    "Now suppose that instead of aggregating and visualizing, our goal was to add some new columns to the data set and write the result to a csv.  Again, we will start by prototyping our code on the first chunk then transforming and writing all of the chunks. "
   ]
  },
  {
   "cell_type": "markdown",
   "metadata": {
    "slideshow": {
     "slide_type": "slide"
    }
   },
   "source": [
    "## Summary of the process\n",
    "\n",
    "* Read and prototype on the first chunk\n",
    "    * Outcome: helper functions for processing each chunk\n",
    "* Reset the data frame iterator\n",
    "* Process and write all chunks"
   ]
  },
  {
   "cell_type": "markdown",
   "metadata": {
    "slideshow": {
     "slide_type": "slide"
    }
   },
   "source": [
    "#### Step 1 - Prototype on the first chunk"
   ]
  },
  {
   "cell_type": "code",
   "execution_count": 4,
   "metadata": {
    "slideshow": {
     "slide_type": "fragment"
    }
   },
   "outputs": [],
   "source": [
    "c_size = 10000\n",
    "new_names = ['date', 'lat', 'lon', 'base']\n",
    "date_cols = ['date']\n",
    "df_iter = pd.read_csv(\"./data/uber/uber-trip-data/uber-raw-data-apr14.csv\", \n",
    "                      header=0, names=new_names, \n",
    "                      parse_dates=date_cols,\n",
    "                      chunksize=c_size,\n",
    "                      sep=',',\n",
    "                      engine='python')"
   ]
  },
  {
   "cell_type": "code",
   "execution_count": 10,
   "metadata": {
    "slideshow": {
     "slide_type": "fragment"
    }
   },
   "outputs": [
    {
     "data": {
      "text/html": [
       "<div>\n",
       "<style scoped>\n",
       "    .dataframe tbody tr th:only-of-type {\n",
       "        vertical-align: middle;\n",
       "    }\n",
       "\n",
       "    .dataframe tbody tr th {\n",
       "        vertical-align: top;\n",
       "    }\n",
       "\n",
       "    .dataframe thead th {\n",
       "        text-align: right;\n",
       "    }\n",
       "</style>\n",
       "<table border=\"1\" class=\"dataframe\">\n",
       "  <thead>\n",
       "    <tr style=\"text-align: right;\">\n",
       "      <th></th>\n",
       "      <th>date</th>\n",
       "      <th>lat</th>\n",
       "      <th>lon</th>\n",
       "      <th>base</th>\n",
       "    </tr>\n",
       "  </thead>\n",
       "  <tbody>\n",
       "    <tr>\n",
       "      <th>30000</th>\n",
       "      <td>2014-04-26 23:32:00</td>\n",
       "      <td>40.7288</td>\n",
       "      <td>-73.9940</td>\n",
       "      <td>B02512</td>\n",
       "    </tr>\n",
       "    <tr>\n",
       "      <th>30001</th>\n",
       "      <td>2014-04-26 23:33:00</td>\n",
       "      <td>40.7261</td>\n",
       "      <td>-73.9986</td>\n",
       "      <td>B02512</td>\n",
       "    </tr>\n",
       "    <tr>\n",
       "      <th>30002</th>\n",
       "      <td>2014-04-26 23:33:00</td>\n",
       "      <td>40.7279</td>\n",
       "      <td>-74.0021</td>\n",
       "      <td>B02512</td>\n",
       "    </tr>\n",
       "    <tr>\n",
       "      <th>30003</th>\n",
       "      <td>2014-04-26 23:34:00</td>\n",
       "      <td>40.7738</td>\n",
       "      <td>-73.9486</td>\n",
       "      <td>B02512</td>\n",
       "    </tr>\n",
       "    <tr>\n",
       "      <th>30004</th>\n",
       "      <td>2014-04-26 23:34:00</td>\n",
       "      <td>40.7296</td>\n",
       "      <td>-74.0024</td>\n",
       "      <td>B02512</td>\n",
       "    </tr>\n",
       "  </tbody>\n",
       "</table>\n",
       "</div>"
      ],
      "text/plain": [
       "                     date      lat      lon    base\n",
       "30000 2014-04-26 23:32:00  40.7288 -73.9940  B02512\n",
       "30001 2014-04-26 23:33:00  40.7261 -73.9986  B02512\n",
       "30002 2014-04-26 23:33:00  40.7279 -74.0021  B02512\n",
       "30003 2014-04-26 23:34:00  40.7738 -73.9486  B02512\n",
       "30004 2014-04-26 23:34:00  40.7296 -74.0024  B02512"
      ]
     },
     "execution_count": 10,
     "metadata": {},
     "output_type": "execute_result"
    }
   ],
   "source": [
    "from toolz import first\n",
    "first_chunk = first(df_iter) \n",
    "first_chunk.head()"
   ]
  },
  {
   "cell_type": "markdown",
   "metadata": {
    "slideshow": {
     "slide_type": "slide"
    }
   },
   "source": [
    "#### Build an expression"
   ]
  },
  {
   "cell_type": "code",
   "execution_count": 8,
   "metadata": {
    "slideshow": {
     "slide_type": "fragment"
    }
   },
   "outputs": [
    {
     "data": {
      "text/html": [
       "<div>\n",
       "<style scoped>\n",
       "    .dataframe tbody tr th:only-of-type {\n",
       "        vertical-align: middle;\n",
       "    }\n",
       "\n",
       "    .dataframe tbody tr th {\n",
       "        vertical-align: top;\n",
       "    }\n",
       "\n",
       "    .dataframe thead th {\n",
       "        text-align: right;\n",
       "    }\n",
       "</style>\n",
       "<table border=\"1\" class=\"dataframe\">\n",
       "  <thead>\n",
       "    <tr style=\"text-align: right;\">\n",
       "      <th></th>\n",
       "      <th>date</th>\n",
       "      <th>lat</th>\n",
       "      <th>lon</th>\n",
       "      <th>base</th>\n",
       "      <th>weekday</th>\n",
       "      <th>weekofyear</th>\n",
       "      <th>day</th>\n",
       "      <th>hour</th>\n",
       "    </tr>\n",
       "  </thead>\n",
       "  <tbody>\n",
       "    <tr>\n",
       "      <th>20000</th>\n",
       "      <td>2014-04-17 18:14:00</td>\n",
       "      <td>40.7222</td>\n",
       "      <td>-74.0095</td>\n",
       "      <td>B02512</td>\n",
       "      <td>Thursday</td>\n",
       "      <td>16</td>\n",
       "      <td>17</td>\n",
       "      <td>18</td>\n",
       "    </tr>\n",
       "    <tr>\n",
       "      <th>20001</th>\n",
       "      <td>2014-04-17 18:14:00</td>\n",
       "      <td>40.7464</td>\n",
       "      <td>-73.9739</td>\n",
       "      <td>B02512</td>\n",
       "      <td>Thursday</td>\n",
       "      <td>16</td>\n",
       "      <td>17</td>\n",
       "      <td>18</td>\n",
       "    </tr>\n",
       "    <tr>\n",
       "      <th>20002</th>\n",
       "      <td>2014-04-17 18:15:00</td>\n",
       "      <td>40.7230</td>\n",
       "      <td>-74.0021</td>\n",
       "      <td>B02512</td>\n",
       "      <td>Thursday</td>\n",
       "      <td>16</td>\n",
       "      <td>17</td>\n",
       "      <td>18</td>\n",
       "    </tr>\n",
       "    <tr>\n",
       "      <th>20003</th>\n",
       "      <td>2014-04-17 18:15:00</td>\n",
       "      <td>40.7230</td>\n",
       "      <td>-74.0021</td>\n",
       "      <td>B02512</td>\n",
       "      <td>Thursday</td>\n",
       "      <td>16</td>\n",
       "      <td>17</td>\n",
       "      <td>18</td>\n",
       "    </tr>\n",
       "    <tr>\n",
       "      <th>20004</th>\n",
       "      <td>2014-04-17 18:15:00</td>\n",
       "      <td>40.7590</td>\n",
       "      <td>-73.9645</td>\n",
       "      <td>B02512</td>\n",
       "      <td>Thursday</td>\n",
       "      <td>16</td>\n",
       "      <td>17</td>\n",
       "      <td>18</td>\n",
       "    </tr>\n",
       "  </tbody>\n",
       "</table>\n",
       "</div>"
      ],
      "text/plain": [
       "                     date      lat      lon    base   weekday  weekofyear  \\\n",
       "20000 2014-04-17 18:14:00  40.7222 -74.0095  B02512  Thursday          16   \n",
       "20001 2014-04-17 18:14:00  40.7464 -73.9739  B02512  Thursday          16   \n",
       "20002 2014-04-17 18:15:00  40.7230 -74.0021  B02512  Thursday          16   \n",
       "20003 2014-04-17 18:15:00  40.7230 -74.0021  B02512  Thursday          16   \n",
       "20004 2014-04-17 18:15:00  40.7590 -73.9645  B02512  Thursday          16   \n",
       "\n",
       "       day  hour  \n",
       "20000   17    18  \n",
       "20001   17    18  \n",
       "20002   17    18  \n",
       "20003   17    18  \n",
       "20004   17    18  "
      ]
     },
     "execution_count": 8,
     "metadata": {},
     "output_type": "execute_result"
    }
   ],
   "source": [
    "(first_chunk >>\n",
    "  mutate(weekday = X.date.dt.weekday_name,\n",
    "         weekofyear = X.date.dt.weekofyear,\n",
    "         day = X.date.dt.day,\n",
    "         hour = X.date.dt.hour) >>\n",
    "  head)"
   ]
  },
  {
   "cell_type": "markdown",
   "metadata": {
    "slideshow": {
     "slide_type": "slide"
    }
   },
   "source": [
    "#### Encapsulate the expression in a function and test on the first chunk"
   ]
  },
  {
   "cell_type": "code",
   "execution_count": 9,
   "metadata": {
    "slideshow": {
     "slide_type": "fragment"
    }
   },
   "outputs": [
    {
     "data": {
      "text/html": [
       "<div>\n",
       "<style scoped>\n",
       "    .dataframe tbody tr th:only-of-type {\n",
       "        vertical-align: middle;\n",
       "    }\n",
       "\n",
       "    .dataframe tbody tr th {\n",
       "        vertical-align: top;\n",
       "    }\n",
       "\n",
       "    .dataframe thead th {\n",
       "        text-align: right;\n",
       "    }\n",
       "</style>\n",
       "<table border=\"1\" class=\"dataframe\">\n",
       "  <thead>\n",
       "    <tr style=\"text-align: right;\">\n",
       "      <th></th>\n",
       "      <th>date</th>\n",
       "      <th>lat</th>\n",
       "      <th>lon</th>\n",
       "      <th>base</th>\n",
       "      <th>weekday</th>\n",
       "      <th>weekofyear</th>\n",
       "      <th>day</th>\n",
       "      <th>hour</th>\n",
       "    </tr>\n",
       "  </thead>\n",
       "  <tbody>\n",
       "    <tr>\n",
       "      <th>20000</th>\n",
       "      <td>2014-04-17 18:14:00</td>\n",
       "      <td>40.7222</td>\n",
       "      <td>-74.0095</td>\n",
       "      <td>B02512</td>\n",
       "      <td>Thursday</td>\n",
       "      <td>16</td>\n",
       "      <td>17</td>\n",
       "      <td>18</td>\n",
       "    </tr>\n",
       "    <tr>\n",
       "      <th>20001</th>\n",
       "      <td>2014-04-17 18:14:00</td>\n",
       "      <td>40.7464</td>\n",
       "      <td>-73.9739</td>\n",
       "      <td>B02512</td>\n",
       "      <td>Thursday</td>\n",
       "      <td>16</td>\n",
       "      <td>17</td>\n",
       "      <td>18</td>\n",
       "    </tr>\n",
       "    <tr>\n",
       "      <th>20002</th>\n",
       "      <td>2014-04-17 18:15:00</td>\n",
       "      <td>40.7230</td>\n",
       "      <td>-74.0021</td>\n",
       "      <td>B02512</td>\n",
       "      <td>Thursday</td>\n",
       "      <td>16</td>\n",
       "      <td>17</td>\n",
       "      <td>18</td>\n",
       "    </tr>\n",
       "    <tr>\n",
       "      <th>20003</th>\n",
       "      <td>2014-04-17 18:15:00</td>\n",
       "      <td>40.7230</td>\n",
       "      <td>-74.0021</td>\n",
       "      <td>B02512</td>\n",
       "      <td>Thursday</td>\n",
       "      <td>16</td>\n",
       "      <td>17</td>\n",
       "      <td>18</td>\n",
       "    </tr>\n",
       "    <tr>\n",
       "      <th>20004</th>\n",
       "      <td>2014-04-17 18:15:00</td>\n",
       "      <td>40.7590</td>\n",
       "      <td>-73.9645</td>\n",
       "      <td>B02512</td>\n",
       "      <td>Thursday</td>\n",
       "      <td>16</td>\n",
       "      <td>17</td>\n",
       "      <td>18</td>\n",
       "    </tr>\n",
       "  </tbody>\n",
       "</table>\n",
       "</div>"
      ],
      "text/plain": [
       "                     date      lat      lon    base   weekday  weekofyear  \\\n",
       "20000 2014-04-17 18:14:00  40.7222 -74.0095  B02512  Thursday          16   \n",
       "20001 2014-04-17 18:14:00  40.7464 -73.9739  B02512  Thursday          16   \n",
       "20002 2014-04-17 18:15:00  40.7230 -74.0021  B02512  Thursday          16   \n",
       "20003 2014-04-17 18:15:00  40.7230 -74.0021  B02512  Thursday          16   \n",
       "20004 2014-04-17 18:15:00  40.7590 -73.9645  B02512  Thursday          16   \n",
       "\n",
       "       day  hour  \n",
       "20000   17    18  \n",
       "20001   17    18  \n",
       "20002   17    18  \n",
       "20003   17    18  \n",
       "20004   17    18  "
      ]
     },
     "execution_count": 9,
     "metadata": {},
     "output_type": "execute_result"
    }
   ],
   "source": [
    "add_dateparts = lambda df: (df \n",
    "                            >> mutate(weekday = X.date.dt.weekday_name,\n",
    "                                     weekofyear = X.date.dt.weekofyear,\n",
    "                                     day = X.date.dt.day,\n",
    "                                     hour = X.date.dt.hour))\n",
    "add_dateparts(first_chunk).head()"
   ]
  },
  {
   "cell_type": "markdown",
   "metadata": {
    "slideshow": {
     "slide_type": "slide"
    }
   },
   "source": [
    "#### Process and write the first chunk\n",
    "\n",
    "For the first chunk, use\n",
    "\n",
    "* `header=True`\n",
    "* `mode='w'`\n",
    "    * `'w'` == Write $\\rightarrow$ creates a new file"
   ]
  },
  {
   "cell_type": "code",
   "execution_count": 11,
   "metadata": {
    "slideshow": {
     "slide_type": "fragment"
    }
   },
   "outputs": [],
   "source": [
    "out_file = \"./data/uber-raw-data-apr14-with-datepart.csv\"\n",
    "add_dateparts(first_chunk).to_csv(out_file, header=True, mode='w')"
   ]
  },
  {
   "cell_type": "markdown",
   "metadata": {
    "slideshow": {
     "slide_type": "slide"
    }
   },
   "source": [
    "#### Process and write the remaining chunks\n",
    "\n",
    "For the remaining chunks, use\n",
    "\n",
    "* `mode='a'`\n",
    "    * `'a'` == append $\\rightarrow$ adds lines to existing file\n",
    "* `header=False`\n",
    "    * No headers in the middle of the file"
   ]
  },
  {
   "cell_type": "code",
   "execution_count": 12,
   "metadata": {
    "scrolled": true,
    "slideshow": {
     "slide_type": "fragment"
    }
   },
   "outputs": [
    {
     "name": "stdout",
     "output_type": "stream",
     "text": [
      "writing chunk 1\n",
      "writing chunk 2\n",
      "writing chunk 3\n",
      "writing chunk 4\n",
      "writing chunk 5\n",
      "writing chunk 6\n",
      "writing chunk 7\n",
      "writing chunk 8\n",
      "writing chunk 9\n",
      "writing chunk 10\n",
      "writing chunk 11\n",
      "writing chunk 12\n",
      "writing chunk 13\n",
      "writing chunk 14\n",
      "writing chunk 15\n",
      "writing chunk 16\n",
      "writing chunk 17\n",
      "writing chunk 18\n",
      "writing chunk 19\n",
      "writing chunk 20\n",
      "writing chunk 21\n",
      "writing chunk 22\n",
      "writing chunk 23\n",
      "writing chunk 24\n",
      "writing chunk 25\n",
      "writing chunk 26\n",
      "writing chunk 27\n",
      "writing chunk 28\n",
      "writing chunk 29\n",
      "writing chunk 30\n",
      "writing chunk 31\n",
      "writing chunk 32\n",
      "writing chunk 33\n",
      "writing chunk 34\n",
      "writing chunk 35\n",
      "writing chunk 36\n",
      "writing chunk 37\n",
      "writing chunk 38\n",
      "writing chunk 39\n",
      "writing chunk 40\n",
      "writing chunk 41\n",
      "writing chunk 42\n",
      "writing chunk 43\n",
      "writing chunk 44\n",
      "writing chunk 45\n",
      "writing chunk 46\n",
      "writing chunk 47\n",
      "writing chunk 48\n",
      "writing chunk 49\n",
      "writing chunk 50\n",
      "writing chunk 51\n",
      "writing chunk 52\n",
      "writing chunk 53\n"
     ]
    }
   ],
   "source": [
    "for i, chunk in enumerate(df_iter):\n",
    "    print(\"writing chunk {0}\".format(i+1))\n",
    "    add_dateparts(chunk).to_csv(out_file, header=False, mode='a')"
   ]
  },
  {
   "cell_type": "code",
   "execution_count": 13,
   "metadata": {
    "slideshow": {
     "slide_type": "slide"
    }
   },
   "outputs": [
    {
     "name": "stdout",
     "output_type": "stream",
     "text": [
      ",date,lat,lon,base,weekday,weekofyear,day,hour\r\n",
      "30000,2014-04-26 23:32:00,40.7288,-73.994,B02512,Saturday,17,26,23\r\n",
      "30001,2014-04-26 23:33:00,40.7261,-73.9986,B02512,Saturday,17,26,23\r\n",
      "30002,2014-04-26 23:33:00,40.7279,-74.0021,B02512,Saturday,17,26,23\r\n",
      "30003,2014-04-26 23:34:00,40.7738,-73.9486,B02512,Saturday,17,26,23\r\n",
      "30004,2014-04-26 23:34:00,40.7296,-74.0024,B02512,Saturday,17,26,23\r\n",
      "30005,2014-04-26 23:34:00,40.7637,-73.9793,B02512,Saturday,17,26,23\r\n",
      "30006,2014-04-26 23:35:00,40.7737,-73.9476,B02512,Saturday,17,26,23\r\n",
      "30007,2014-04-26 23:35:00,40.7368,-73.9734,B02512,Saturday,17,26,23\r\n",
      "30008,2014-04-26 23:36:00,40.7561,-73.9654,B02512,Saturday,17,26,23\r\n"
     ]
    }
   ],
   "source": [
    "!head -n 10 ./data/uber-raw-data-apr14-with-datepart.csv"
   ]
  },
  {
   "cell_type": "markdown",
   "metadata": {
    "slideshow": {
     "slide_type": "slide"
    }
   },
   "source": [
    "## A note on out of memory errors\n",
    "\n",
    "* Happen frequently when reading data in chunks\n",
    "\n",
    "#### Example - MoMA Artwork\n",
    "\n",
    "Even though this is not large (easily fits in memory on modern machines), we get memory errors when iterating through the chunks."
   ]
  },
  {
   "cell_type": "code",
   "execution_count": null,
   "metadata": {
    "slideshow": {
     "slide_type": "fragment"
    }
   },
   "outputs": [],
   "source": [
    "[chunk for chunk in pd.read_csv('./data/Artworks.csv', chunksize=500)]"
   ]
  },
  {
   "cell_type": "markdown",
   "metadata": {
    "slideshow": {
     "slide_type": "slide"
    }
   },
   "source": [
    "## Solution 1 - Specify the `sep` and let `engine='python'`"
   ]
  },
  {
   "cell_type": "code",
   "execution_count": 181,
   "metadata": {
    "slideshow": {
     "slide_type": "fragment"
    }
   },
   "outputs": [
    {
     "ename": "ParserError",
     "evalue": "Error tokenizing data. C error: out of memory",
     "output_type": "error",
     "traceback": [
      "\u001b[0;31mParserError\u001b[0m\u001b[0;31m:\u001b[0m Error tokenizing data. C error: out of memory\n"
     ]
    }
   ],
   "source": [
    "df_iter = pd.read_csv('./data/Artworks.csv', \n",
    "                      chunksize=500, # Pick a reasonable chunk size.  I had memory errors with a smaller size\n",
    "                      sep=',', # To help the parser not run out of memory\n",
    "                      dtype={'BeginDate':str}, # We are using string method, make sure they will work\n",
    "                      engine='python') # The way I fixed parsing errors\n",
    "[chunk for chunk in pd.read_csv('./data/Artworks.csv', chunksize=500)]"
   ]
  },
  {
   "cell_type": "markdown",
   "metadata": {
    "slideshow": {
     "slide_type": "slide"
    }
   },
   "source": [
    "## Solution 2 - Use `csv.reader` or `csv.DictReader`"
   ]
  },
  {
   "cell_type": "code",
   "execution_count": 38,
   "metadata": {
    "slideshow": {
     "slide_type": "fragment"
    }
   },
   "outputs": [
    {
     "name": "stdout",
     "output_type": "stream",
     "text": [
      "creating df 0\n",
      "creating df 1\n",
      "creating df 2\n",
      "creating df 3\n",
      "creating df 4\n",
      "creating df 5\n",
      "creating df 6\n",
      "creating df 7\n",
      "creating df 8\n",
      "creating df 9\n",
      "creating df 10\n",
      "creating df 11\n",
      "creating df 12\n",
      "creating df 13\n",
      "creating df 14\n"
     ]
    }
   ],
   "source": [
    "import pandas as pd\n",
    "from csv import DictReader, Sniffer\n",
    "from toolz import partition_all\n",
    "\n",
    "with open('./data/Artworks.csv') as csvfile:\n",
    "    dialect = Sniffer().sniff(csvfile.read(50))\n",
    "    csvfile.seek(0)\n",
    "    reader = DictReader(csvfile, dialect=dialect)\n",
    "    columns = reader.fieldnames\n",
    "    chunksize = 10000\n",
    "    for i, chunk in enumerate(partition_all(chunksize, reader)):\n",
    "        print('creating df {0}'.format(i))\n",
    "        _ = pd.DataFrame().from_dict(chunk)"
   ]
  },
  {
   "cell_type": "markdown",
   "metadata": {
    "slideshow": {
     "slide_type": "slide"
    }
   },
   "source": [
    "## What does `DictReader` do?\n",
    "\n",
    "* Read a line at a time\n",
    "* Return a row `dict` of `(col_name, value)` pairs"
   ]
  },
  {
   "cell_type": "code",
   "execution_count": 39,
   "metadata": {
    "scrolled": true,
    "slideshow": {
     "slide_type": "fragment"
    }
   },
   "outputs": [
    {
     "data": {
      "text/plain": [
       "[OrderedDict([('\\ufeffTitle',\n",
       "               'Ferdinandsbrücke Project, Vienna, Austria, Elevation, preliminary version'),\n",
       "              ('Artist', 'Otto Wagner'),\n",
       "              ('ConstituentID', '6210'),\n",
       "              ('ArtistBio', '(Austrian, 1841–1918)'),\n",
       "              ('Nationality', '(Austrian)'),\n",
       "              ('BeginDate', '(1841)'),\n",
       "              ('EndDate', '(1918)'),\n",
       "              ('Gender', '(Male)'),\n",
       "              ('Date', '1896'),\n",
       "              ('Medium', 'Ink and cut-and-pasted painted pages on paper'),\n",
       "              ('Dimensions', '19 1/8 x 66 1/2\" (48.6 x 168.9 cm)\"'),\n",
       "              ('CreditLine',\n",
       "               'Fractional and promised gift of Jo Carole and Ronald S. Lauder'),\n",
       "              ('AccessionNumber', '885.1996'),\n",
       "              ('Classification', 'Architecture'),\n",
       "              ('Department', 'Architecture & Design'),\n",
       "              ('DateAcquired', '1996-04-09'),\n",
       "              ('Cataloged', 'Y'),\n",
       "              ('ObjectID', '2'),\n",
       "              ('URL', 'http://www.moma.org/collection/works/2'),\n",
       "              ('ThumbnailURL',\n",
       "               'http://www.moma.org/media/W1siZiIsIjU5NDA1Il0sWyJwIiwiY29udmVydCIsIi1yZXNpemUgMzAweDMwMFx1MDAzZSJdXQ.jpg?sha=137b8455b1ec6167'),\n",
       "              ('Circumference (cm)', ''),\n",
       "              ('Depth (cm)', ''),\n",
       "              ('Diameter (cm)', ''),\n",
       "              ('Height (cm)', '48.6'),\n",
       "              ('Length (cm)', ''),\n",
       "              ('Weight (kg)', ''),\n",
       "              ('Width (cm)', '168.9'),\n",
       "              ('Seat Height (cm)', ''),\n",
       "              ('Duration (sec.)', '')]),\n",
       " OrderedDict([('\\ufeffTitle',\n",
       "               'City of Music, National Superior Conservatory of Music and Dance, Paris, France, View from interior courtyard'),\n",
       "              ('Artist', 'Christian de Portzamparc'),\n",
       "              ('ConstituentID', '7470'),\n",
       "              ('ArtistBio', '(French, born 1944)'),\n",
       "              ('Nationality', '(French)'),\n",
       "              ('BeginDate', '(1944)'),\n",
       "              ('EndDate', '(0)'),\n",
       "              ('Gender', '(Male)'),\n",
       "              ('Date', '1987'),\n",
       "              ('Medium', 'Paint and colored pencil on print'),\n",
       "              ('Dimensions', '16 x 11 3/4\" (40.6 x 29.8 cm)\"'),\n",
       "              ('CreditLine',\n",
       "               'Gift of the architect in honor of Lily Auchincloss'),\n",
       "              ('AccessionNumber', '1.1995'),\n",
       "              ('Classification', 'Architecture'),\n",
       "              ('Department', 'Architecture & Design'),\n",
       "              ('DateAcquired', '1995-01-17'),\n",
       "              ('Cataloged', 'Y'),\n",
       "              ('ObjectID', '3'),\n",
       "              ('URL', 'http://www.moma.org/collection/works/3'),\n",
       "              ('ThumbnailURL',\n",
       "               'http://www.moma.org/media/W1siZiIsIjk3Il0sWyJwIiwiY29udmVydCIsIi1yZXNpemUgMzAweDMwMFx1MDAzZSJdXQ.jpg?sha=55b65fa4368fe00a'),\n",
       "              ('Circumference (cm)', ''),\n",
       "              ('Depth (cm)', ''),\n",
       "              ('Diameter (cm)', ''),\n",
       "              ('Height (cm)', '40.6401'),\n",
       "              ('Length (cm)', ''),\n",
       "              ('Weight (kg)', ''),\n",
       "              ('Width (cm)', '29.8451'),\n",
       "              ('Seat Height (cm)', ''),\n",
       "              ('Duration (sec.)', '')])]"
      ]
     },
     "execution_count": 39,
     "metadata": {},
     "output_type": "execute_result"
    }
   ],
   "source": [
    "from toolz import take\n",
    "\n",
    "with open('./data/Artworks.csv') as csvfile:\n",
    "    reader = DictReader(csvfile, dialect=dialect)\n",
    "    columns = reader.fieldnames\n",
    "    head = list(take(2, reader))\n",
    "head\n"
   ]
  },
  {
   "cell_type": "markdown",
   "metadata": {
    "slideshow": {
     "slide_type": "slide"
    }
   },
   "source": [
    "## <font color=\"red\"> Exercise 3 </font>\n",
    "\n",
    "Create a file for the May Uber pick-ups that contains the various dateparts added in the last example.  Use the `bash` `head` function to inspect the first 10 rows of the result.  Include the ***day of the year*** and ***week of the year***."
   ]
  },
  {
   "cell_type": "code",
   "execution_count": 49,
   "metadata": {
    "slideshow": {
     "slide_type": "fragment"
    }
   },
   "outputs": [],
   "source": [
    "# Your code here"
   ]
  },
  {
   "cell_type": "markdown",
   "metadata": {
    "slideshow": {
     "slide_type": "slide"
    }
   },
   "source": [
    "## Up Next\n",
    "\n",
    "Stuff"
   ]
  },
  {
   "cell_type": "code",
   "execution_count": null,
   "metadata": {},
   "outputs": [],
   "source": []
  }
 ],
 "metadata": {
  "celltoolbar": "Slideshow",
  "kernelspec": {
   "display_name": "Python 3",
   "language": "python",
   "name": "python3"
  },
  "language_info": {
   "codemirror_mode": {
    "name": "ipython",
    "version": 3
   },
   "file_extension": ".py",
   "mimetype": "text/x-python",
   "name": "python",
   "nbconvert_exporter": "python",
   "pygments_lexer": "ipython3",
   "version": "3.7.0"
  },
  "varInspector": {
   "cols": {
    "lenName": 16,
    "lenType": 16,
    "lenVar": 40
   },
   "kernels_config": {
    "python": {
     "delete_cmd_postfix": "",
     "delete_cmd_prefix": "del ",
     "library": "var_list.py",
     "varRefreshCmd": "print(var_dic_list())"
    },
    "r": {
     "delete_cmd_postfix": ") ",
     "delete_cmd_prefix": "rm(",
     "library": "var_list.r",
     "varRefreshCmd": "cat(var_dic_list()) "
    }
   },
   "types_to_exclude": [
    "module",
    "function",
    "builtin_function_or_method",
    "instance",
    "_Feature"
   ],
   "window_display": false
  }
 },
 "nbformat": 4,
 "nbformat_minor": 2
}
