{
 "cells": [
  {
   "cell_type": "markdown",
   "metadata": {},
   "source": [
    "## Lab 3 - RegExOne\n",
    "\n",
    "In this lab, you will read/work through the examples in [RegExOne](https://regexone.com/) and document and double check your work using the `assert` statements given below. "
   ]
  },
  {
   "cell_type": "markdown",
   "metadata": {},
   "source": [
    "## Lesson 1 - Letters\n",
    "\n",
    "**Tasks:** \n",
    "\n",
    "1. Complete Lesson 1, \n",
    "2. Put your solution in the next cell, and \n",
    "3. Make sure you pass the `assert` statements below."
   ]
  },
  {
   "cell_type": "code",
   "execution_count": 1,
   "metadata": {},
   "outputs": [],
   "source": [
    "import re\n",
    "s1 = 'abcdefg'\n",
    "s2 = 'abcde'\n",
    "s3 = 'abc'\n",
    "lesson_1 = r\"abc\"\n",
    "r1 = re.compile(lesson_1)"
   ]
  },
  {
   "cell_type": "code",
   "execution_count": 2,
   "metadata": {
    "scrolled": true
   },
   "outputs": [],
   "source": [
    "assert r1.match(s1), 'Failed string 1'\n",
    "assert r1.match(s1), 'Failed string 2'\n",
    "assert r1.match(s1), 'Failed string 3'"
   ]
  },
  {
   "cell_type": "markdown",
   "metadata": {},
   "source": [
    "## Lesson 2"
   ]
  },
  {
   "cell_type": "code",
   "execution_count": 24,
   "metadata": {},
   "outputs": [],
   "source": [
    "import re\n",
    "s1 = 'abc123xyz'\n",
    "s2 = 'define \"123\"'\n",
    "s3 = 'var g = 123;'\n",
    "lesson_2 = r\"123\"\n",
    "r2 = re.compile(lesson_2)"
   ]
  },
  {
   "cell_type": "code",
   "execution_count": 25,
   "metadata": {},
   "outputs": [],
   "source": [
    "assert r2.search(s1), 'Failed string 1'\n",
    "assert r2.search(s2), 'Failed string 2'\n",
    "assert r2.search(s3), 'Failed string 3'"
   ]
  },
  {
   "cell_type": "markdown",
   "metadata": {},
   "source": [
    "## Lesson 3-14\n",
    "\n",
    "**Tasks:** \n",
    "\n",
    "For each lesson on RegexOne, do the following.\n",
    "\n",
    "1. Copy/paste these cells below\n",
    "2. Complete the lesson, \n",
    "3. Edit the strings to match the current lesson, (add new strings if needed)\n",
    "4. Put your solution in the next cell, and \n",
    "5. Make sure you pass the `assert` statements below."
   ]
  },
  {
   "cell_type": "code",
   "execution_count": 1,
   "metadata": {},
   "outputs": [],
   "source": [
    "import re\n",
    "s1 = 'cat.'\n",
    "s2 = '896.'\n",
    "s3 = '?=+.'\n",
    "s4 = 'abc1'\n",
    "lesson_3 = r\"...\\.\"\n",
    "r_new = re.compile(lesson_3)"
   ]
  },
  {
   "cell_type": "code",
   "execution_count": 2,
   "metadata": {},
   "outputs": [],
   "source": [
    "assert r_new.search(s1), 'Failed string 1'\n",
    "assert r_new.search(s2), 'Failed string 2'\n",
    "assert r_new.search(s3), 'Failed string 3'\n",
    "assert not r_new.search(s4), 'Failed string 4'"
   ]
  },
  {
   "cell_type": "markdown",
   "metadata": {},
   "source": [
    "## Lesson 4"
   ]
  },
  {
   "cell_type": "code",
   "execution_count": 3,
   "metadata": {},
   "outputs": [],
   "source": [
    "import re\n",
    "s1 = 'can'\n",
    "s2 = 'man'\n",
    "s3 = 'fan'\n",
    "s4 = 'dan'\n",
    "s5 = 'ran'\n",
    "s6 = 'pan'\n",
    "lesson_4 = r\"[cmf]\"\n",
    "r_new = re.compile(lesson_4)"
   ]
  },
  {
   "cell_type": "code",
   "execution_count": 4,
   "metadata": {},
   "outputs": [],
   "source": [
    "assert r_new.search(s1), 'Failed string 1'\n",
    "assert r_new.search(s2), 'Failed string 2'\n",
    "assert r_new.search(s3), 'Failed string 3'\n",
    "assert not r_new.search(s4), 'Failed string 4'\n",
    "assert not r_new.search(s5), 'Failed string 5'\n",
    "assert not r_new.search(s6), 'Failed string 6'"
   ]
  },
  {
   "cell_type": "markdown",
   "metadata": {},
   "source": [
    "## Lesson 5"
   ]
  },
  {
   "cell_type": "code",
   "execution_count": 8,
   "metadata": {},
   "outputs": [],
   "source": [
    "import re\n",
    "s1 = 'hog'\n",
    "s2 = 'dog'\n",
    "s3 = 'bog'\n",
    "lesson_5 = r\"[^b]og\"\n",
    "r_new = re.compile(lesson_5)"
   ]
  },
  {
   "cell_type": "code",
   "execution_count": 9,
   "metadata": {},
   "outputs": [],
   "source": [
    "assert r_new.search(s1), 'Failed string 1'\n",
    "assert r_new.search(s2), 'Failed string 2'\n",
    "assert not r_new.search(s3), 'Failed string 3'"
   ]
  },
  {
   "cell_type": "markdown",
   "metadata": {},
   "source": [
    "## Lesson 6"
   ]
  },
  {
   "cell_type": "code",
   "execution_count": 10,
   "metadata": {},
   "outputs": [],
   "source": [
    "import re\n",
    "s1 = 'Ana'\n",
    "s2 = 'Bob'\n",
    "s3 = 'Cpc'\n",
    "s4 = 'aax'\n",
    "s5 = 'bby'\n",
    "s6 = 'ccz'\n",
    "lesson_6 = r\"[A-C]\"\n",
    "r_new = re.compile(lesson_6)"
   ]
  },
  {
   "cell_type": "code",
   "execution_count": 11,
   "metadata": {},
   "outputs": [],
   "source": [
    "assert r_new.match(s1), 'Failed string 1'\n",
    "assert r_new.match(s2), 'Failed string 2'\n",
    "assert r_new.match(s3), 'Failed string 3'\n",
    "assert not r_new.search(s4), 'Failed string 4'\n",
    "assert not r_new.search(s5), 'Failed string 5'\n",
    "assert not r_new.search(s6), 'Failed string 6'"
   ]
  },
  {
   "cell_type": "markdown",
   "metadata": {},
   "source": [
    "## Lesson 7"
   ]
  },
  {
   "cell_type": "code",
   "execution_count": 14,
   "metadata": {},
   "outputs": [],
   "source": [
    "import re\n",
    "s1 = 'wazzzzzup'\n",
    "s2 = 'wazzzup'\n",
    "s3 = 'wazup'\n",
    "lesson_7 = r\"z{3,5}\"\n",
    "r_new = re.compile(lesson_7)"
   ]
  },
  {
   "cell_type": "code",
   "execution_count": 15,
   "metadata": {},
   "outputs": [],
   "source": [
    "assert r_new.search(s1), 'Failed string 1'\n",
    "assert r_new.search(s2), 'Failed string 2'\n",
    "assert not r_new.search(s3), 'Failed string 3'"
   ]
  },
  {
   "cell_type": "markdown",
   "metadata": {},
   "source": [
    "## Lessonn 8"
   ]
  },
  {
   "cell_type": "code",
   "execution_count": 16,
   "metadata": {},
   "outputs": [],
   "source": [
    "import re\n",
    "s1 = 'aaaabcc'\n",
    "s2 = 'aabbbbc'\n",
    "s3 = 'aacc'\n",
    "s4 = 'a'\n",
    "lesson_4 = r\"aa+\"\n",
    "r_new = re.compile(lesson_4)"
   ]
  },
  {
   "cell_type": "code",
   "execution_count": 17,
   "metadata": {},
   "outputs": [],
   "source": [
    "assert r_new.match(s1), 'Failed string 1'\n",
    "assert r_new.match(s2), 'Failed string 2'\n",
    "assert r_new.match(s3), 'Failed string 3'\n",
    "assert not r_new.search(s4), 'Failed string 4'"
   ]
  },
  {
   "cell_type": "markdown",
   "metadata": {},
   "source": [
    "## Lesson 9"
   ]
  },
  {
   "cell_type": "code",
   "execution_count": 18,
   "metadata": {},
   "outputs": [],
   "source": [
    "import re\n",
    "s1 = '1 file found?'\n",
    "s2 = '2 files found?'\n",
    "s3 = '24 files found?'\n",
    "s4 = 'No files found?'\n",
    "lesson_9 = r\"\\d+\"\n",
    "r_new = re.compile(lesson_9)"
   ]
  },
  {
   "cell_type": "code",
   "execution_count": 19,
   "metadata": {},
   "outputs": [],
   "source": [
    "assert r_new.search(s1), 'Failed string 1'\n",
    "assert r_new.search(s2), 'Failed string 2'\n",
    "assert r_new.search(s3), 'Failed string 3'\n",
    "assert not r_new.search(s4), 'Failed string 4'"
   ]
  },
  {
   "cell_type": "markdown",
   "metadata": {},
   "source": [
    "## Lesson 10"
   ]
  },
  {
   "cell_type": "code",
   "execution_count": 22,
   "metadata": {},
   "outputs": [],
   "source": [
    "import re\n",
    "s1 = '\t1.   abc'\n",
    "s2 = '\t2.\tabc'\n",
    "s3 = '3.           abc'\n",
    "s4 = '\t4.abc'\n",
    "lesson_10 = r\"\\d\\.\\s\"\n",
    "r_new = re.compile(lesson_10)"
   ]
  },
  {
   "cell_type": "code",
   "execution_count": 23,
   "metadata": {},
   "outputs": [],
   "source": [
    "assert r_new.search(s1), 'Failed string 1'\n",
    "assert r_new.search(s2), 'Failed string 2'\n",
    "assert r_new.search(s3), 'Failed string 3'\n",
    "assert not r_new.search(s4), 'Failed string 4'"
   ]
  },
  {
   "cell_type": "markdown",
   "metadata": {},
   "source": [
    "## Lesson 11"
   ]
  },
  {
   "cell_type": "code",
   "execution_count": 26,
   "metadata": {},
   "outputs": [],
   "source": [
    "import re\n",
    "s1 = 'Mission: successful'\n",
    "s2 = 'Last Mission: unsuccessful'\n",
    "s3 = 'Next Mission: successful upon capture of target'\n",
    "lesson_11 = r\"^Mission:\" \n",
    "r_new = re.compile(lesson_11)"
   ]
  },
  {
   "cell_type": "code",
   "execution_count": 27,
   "metadata": {},
   "outputs": [],
   "source": [
    "assert r_new.search(s1), 'Failed string 1'\n",
    "assert not r_new.search(s2), 'Failed string 2'\n",
    "assert not r_new.search(s3), 'Failed string 3'"
   ]
  },
  {
   "cell_type": "markdown",
   "metadata": {},
   "source": [
    "## Lesson 12"
   ]
  },
  {
   "cell_type": "code",
   "execution_count": 28,
   "metadata": {},
   "outputs": [],
   "source": [
    "import re\n",
    "s1 = 'file_record_transcript.pdf'\n",
    "s2 = 'file_07241999.pdf'\n",
    "s3 = 'testfile_fake.pdf.tmp'\n",
    "lesson_12 = r'^(file.+)\\.pdf$' \n",
    "r_new = re.compile(lesson_12)"
   ]
  },
  {
   "cell_type": "code",
   "execution_count": 29,
   "metadata": {},
   "outputs": [],
   "source": [
    "assert r_new.search(s1), 'Failed string 1'\n",
    "assert r_new.search(s2), 'Failed string 2'\n",
    "assert not r_new.search(s3), 'Failed string 3'"
   ]
  },
  {
   "cell_type": "markdown",
   "metadata": {},
   "source": [
    "## Lesson 13"
   ]
  },
  {
   "cell_type": "code",
   "execution_count": 87,
   "metadata": {},
   "outputs": [],
   "source": [
    "import re\n",
    "s1 = 'Jan 1987'\n",
    "s2 = 'May 1969'\n",
    "s3 = 'Aug 2011'\n",
    "lesson_13 = r\"(\\w+ (\\d+))\"\n",
    "r_new = re.compile(lesson_13)"
   ]
  },
  {
   "cell_type": "code",
   "execution_count": 88,
   "metadata": {},
   "outputs": [],
   "source": [
    "assert r_new.search(s1), 'Failed string 1'\n",
    "assert r_new.search(s2), 'Failed string 2'\n",
    "assert r_new.search(s3), 'Failed string 3'"
   ]
  },
  {
   "cell_type": "markdown",
   "metadata": {},
   "source": [
    "## Lesson 14"
   ]
  },
  {
   "cell_type": "code",
   "execution_count": 89,
   "metadata": {},
   "outputs": [],
   "source": [
    "import re\n",
    "s1 = '1280x720'\n",
    "s2 = '1920x1600'\n",
    "s3 = '1024x768'\n",
    "lesson_14 = r\"(\\d+)x(\\d+)\"\n",
    "r_new = re.compile(lesson_14)"
   ]
  },
  {
   "cell_type": "code",
   "execution_count": 90,
   "metadata": {},
   "outputs": [],
   "source": [
    "assert r_new.search(s1), 'Failed string 1'\n",
    "assert r_new.search(s2), 'Failed string 2'\n",
    "assert r_new.search(s3), 'Failed string 3'"
   ]
  },
  {
   "cell_type": "markdown",
   "metadata": {},
   "source": [
    "## Lesson 15"
   ]
  },
  {
   "cell_type": "code",
   "execution_count": 30,
   "metadata": {},
   "outputs": [],
   "source": [
    "import re\n",
    "s1 = 'I love cats'\n",
    "s2 = 'I love dogs'\n",
    "s3 = 'I love logs'\n",
    "s4 = 'I love cogs'\n",
    "lesson_15 = r'(cats|dogs)'\n",
    "r_new = re.compile(lesson_15)"
   ]
  },
  {
   "cell_type": "code",
   "execution_count": 31,
   "metadata": {},
   "outputs": [],
   "source": [
    "assert r_new.search(s1), 'Failed string 1'\n",
    "assert r_new.search(s2), 'Failed string 2'\n",
    "assert not r_new.search(s3), 'Failed string 3'\n",
    "assert not r_new.search(s4), 'Failed string 4'"
   ]
  },
  {
   "cell_type": "code",
   "execution_count": null,
   "metadata": {},
   "outputs": [],
   "source": []
  }
 ],
 "metadata": {
  "kernelspec": {
   "display_name": "Python 3",
   "language": "python",
   "name": "python3"
  },
  "language_info": {
   "codemirror_mode": {
    "name": "ipython",
    "version": 3
   },
   "file_extension": ".py",
   "mimetype": "text/x-python",
   "name": "python",
   "nbconvert_exporter": "python",
   "pygments_lexer": "ipython3",
   "version": "3.7.0"
  },
  "varInspector": {
   "cols": {
    "lenName": 16,
    "lenType": 16,
    "lenVar": 40
   },
   "kernels_config": {
    "python": {
     "delete_cmd_postfix": "",
     "delete_cmd_prefix": "del ",
     "library": "var_list.py",
     "varRefreshCmd": "print(var_dic_list())"
    },
    "r": {
     "delete_cmd_postfix": ") ",
     "delete_cmd_prefix": "rm(",
     "library": "var_list.r",
     "varRefreshCmd": "cat(var_dic_list()) "
    }
   },
   "types_to_exclude": [
    "module",
    "function",
    "builtin_function_or_method",
    "instance",
    "_Feature"
   ],
   "window_display": false
  }
 },
 "nbformat": 4,
 "nbformat_minor": 2
}
